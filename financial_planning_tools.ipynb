{
 "cells": [
  {
   "cell_type": "markdown",
   "metadata": {},
   "source": [
    "# Financial Planning with APIs and Simulations\n",
    "\n",
    "In this Challenge, you’ll create two financial analysis tools by using a single Jupyter notebook:\n",
    "\n",
    "Part 1: A financial planner for emergencies. The members will be able to use this tool to visualize their current savings. The members can then determine if they have enough reserves for an emergency fund.\n",
    "\n",
    "Part 2: A financial planner for retirement. This tool will forecast the performance of their retirement portfolio in 30 years. To do this, the tool will make an Alpaca API call via the Alpaca SDK to get historical price data for use in Monte Carlo simulations.\n",
    "\n",
    "You’ll use the information from the Monte Carlo simulation to answer questions about the portfolio in your Jupyter notebook.\n",
    "\n"
   ]
  },
  {
   "cell_type": "code",
   "execution_count": 7,
   "metadata": {},
   "outputs": [],
   "source": [
    "# Import the required libraries and dependencies\n",
    "import os\n",
    "import requests\n",
    "import json\n",
    "import pandas as pd\n",
    "from dotenv import load_dotenv\n",
    "import alpaca_trade_api as tradeapi\n",
    "from MCForecastTools import MCSimulation\n",
    "\n",
    "%matplotlib inline"
   ]
  },
  {
   "cell_type": "code",
   "execution_count": 162,
   "metadata": {},
   "outputs": [
    {
     "data": {
      "text/plain": [
       "True"
      ]
     },
     "execution_count": 162,
     "metadata": {},
     "output_type": "execute_result"
    }
   ],
   "source": [
    "# Load the environment variables from the .env file\n",
    "#by calling the load_dotenv function\n",
    "load_dotenv()"
   ]
  },
  {
   "cell_type": "markdown",
   "metadata": {},
   "source": [
    "## Part 1: Create a Financial Planner for Emergencies"
   ]
  },
  {
   "cell_type": "markdown",
   "metadata": {},
   "source": [
    "### Evaluate the Cryptocurrency Wallet by Using the Requests Library\n",
    "\n",
    "In this section, you’ll determine the current value of a member’s cryptocurrency wallet. You’ll collect the current prices for the Bitcoin and Ethereum cryptocurrencies by using the Python Requests library. For the prototype, you’ll assume that the member holds the 1.2 Bitcoins (BTC) and 5.3 Ethereum coins (ETH). To do all this, complete the following steps:\n",
    "\n",
    "1. Create a variable named `monthly_income`, and set its value to `12000`.\n",
    "\n",
    "2. Use the Requests library to get the current price (in US dollars) of Bitcoin (BTC) and Ethereum (ETH) by using the API endpoints that the starter code supplies.\n",
    "\n",
    "3. Navigate the JSON response object to access the current price of each coin, and store each in a variable.\n",
    "\n",
    "    > **Hint** Note the specific identifier for each cryptocurrency in the API JSON response. The Bitcoin identifier is `1`, and the Ethereum identifier is `1027`.\n",
    "\n",
    "4. Calculate the value, in US dollars, of the current amount of each cryptocurrency and of the entire cryptocurrency wallet.\n",
    "\n"
   ]
  },
  {
   "cell_type": "code",
   "execution_count": 9,
   "metadata": {},
   "outputs": [],
   "source": [
    "# The current number of coins for each cryptocurrency asset held in the portfolio.\n",
    "btc_coins = 1.2\n",
    "eth_coins = 5.3"
   ]
  },
  {
   "cell_type": "markdown",
   "metadata": {},
   "source": [
    "#### Step 1: Create a variable named `monthly_income`, and set its value to `12000`."
   ]
  },
  {
   "cell_type": "code",
   "execution_count": 10,
   "metadata": {
    "tags": []
   },
   "outputs": [],
   "source": [
    "# The monthly amount for the member's household income\n",
    "monthly_income = 12000\n"
   ]
  },
  {
   "cell_type": "markdown",
   "metadata": {},
   "source": [
    "#### Review the endpoint URLs for the API calls to Free Crypto API in order to get the current pricing information for both BTC and ETH."
   ]
  },
  {
   "cell_type": "code",
   "execution_count": 11,
   "metadata": {},
   "outputs": [],
   "source": [
    "# The Free Crypto API Call endpoint URLs for the held cryptocurrency assets\n",
    "btc_url = \"https://api.alternative.me/v2/ticker/Bitcoin/?convert=USD\"\n",
    "eth_url = \"https://api.alternative.me/v2/ticker/Ethereum/?convert=USD\""
   ]
  },
  {
   "cell_type": "markdown",
   "metadata": {},
   "source": [
    "#### Step 2. Use the Requests library to get the current price (in US dollars) of Bitcoin (BTC) and Ethereum (ETH) by using the API endpoints that the starter code supplied."
   ]
  },
  {
   "cell_type": "code",
   "execution_count": 161,
   "metadata": {},
   "outputs": [
    {
     "name": "stdout",
     "output_type": "stream",
     "text": [
      "{\n",
      "    \"data\": {\n",
      "        \"1\": {\n",
      "            \"circulating_supply\": 19027100,\n",
      "            \"id\": 1,\n",
      "            \"last_updated\": 1651379665,\n",
      "            \"max_supply\": 21000000,\n",
      "            \"name\": \"Bitcoin\",\n",
      "            \"quotes\": {\n",
      "                \"USD\": {\n",
      "                    \"market_cap\": 724021785234,\n",
      "                    \"percent_change_1h\": 0.0103129542087906,\n",
      "                    \"percent_change_24h\": -1.38453670872861,\n",
      "                    \"percent_change_7d\": -3.77562845104369,\n",
      "                    \"percentage_change_1h\": 0.0103129542087906,\n",
      "                    \"percentage_change_24h\": -1.38453670872861,\n",
      "                    \"percentage_change_7d\": -3.77562845104369,\n",
      "                    \"price\": 38068.0,\n",
      "                    \"volume_24h\": 23251945763\n",
      "                }\n",
      "            },\n",
      "            \"rank\": 1,\n",
      "            \"symbol\": \"BTC\",\n",
      "            \"total_supply\": 19027100,\n",
      "            \"website_slug\": \"bitcoin\"\n",
      "        }\n",
      "    },\n",
      "    \"metadata\": {\n",
      "        \"error\": null,\n",
      "        \"num_cryptocurrencies\": 3106,\n",
      "        \"timestamp\": 1651379665\n",
      "    }\n",
      "}\n"
     ]
    }
   ],
   "source": [
    "# Using the Python requests library, make an API call to access the current price of BTC\n",
    "btc_response = requests.get(btc_url).json()\n",
    "\n",
    "# Use the json.dumps function to review the response data from the API call\n",
    "# Use the indent and sort_keys parameters to make the response object readable\n",
    "print(json.dumps(btc_response, indent=4, sort_keys=True))\n"
   ]
  },
  {
   "cell_type": "code",
   "execution_count": 163,
   "metadata": {},
   "outputs": [
    {
     "name": "stdout",
     "output_type": "stream",
     "text": [
      "{\n",
      "    \"data\": {\n",
      "        \"1027\": {\n",
      "            \"circulating_supply\": 120597988,\n",
      "            \"id\": 1027,\n",
      "            \"last_updated\": 1651379600,\n",
      "            \"max_supply\": 0,\n",
      "            \"name\": \"Ethereum\",\n",
      "            \"quotes\": {\n",
      "                \"USD\": {\n",
      "                    \"market_cap\": 334628483861,\n",
      "                    \"percent_change_1h\": 0.0394617148477828,\n",
      "                    \"percent_change_24h\": -1.34570312107317,\n",
      "                    \"percent_change_7d\": -5.51952098779019,\n",
      "                    \"percentage_change_1h\": 0.0394617148477828,\n",
      "                    \"percentage_change_24h\": -1.34570312107317,\n",
      "                    \"percentage_change_7d\": -5.51952098779019,\n",
      "                    \"price\": 2778.38,\n",
      "                    \"volume_24h\": 13894047390\n",
      "                }\n",
      "            },\n",
      "            \"rank\": 2,\n",
      "            \"symbol\": \"ETH\",\n",
      "            \"total_supply\": 120597988,\n",
      "            \"website_slug\": \"ethereum\"\n",
      "        }\n",
      "    },\n",
      "    \"metadata\": {\n",
      "        \"error\": null,\n",
      "        \"num_cryptocurrencies\": 3106,\n",
      "        \"timestamp\": 1651379600\n",
      "    }\n",
      "}\n"
     ]
    }
   ],
   "source": [
    "# Using the Python requests library, make an API call to access the current price ETH\n",
    "eth_response = requests.get(eth_url).json()\n",
    "\n",
    "# Use the json.dumps function to review the response data from the API call\n",
    "# Use the indent and sort_keys parameters to make the response object readable\n",
    "print(json.dumps(eth_response, indent=4, sort_keys=True))\n"
   ]
  },
  {
   "cell_type": "markdown",
   "metadata": {},
   "source": [
    "#### Step 3: Navigate the JSON response object to access the current price of each coin, and store each in a variable."
   ]
  },
  {
   "cell_type": "code",
   "execution_count": 15,
   "metadata": {},
   "outputs": [
    {
     "data": {
      "text/plain": [
       "38418.0"
      ]
     },
     "execution_count": 15,
     "metadata": {},
     "output_type": "execute_result"
    }
   ],
   "source": [
    "# Navigate the BTC response object to access the current price of BTC\n",
    "btc_price = btc_response['data']['1']['quotes']['USD']['price']\n",
    "\n",
    "# Print the current price of BTC\n",
    "btc_price\n"
   ]
  },
  {
   "cell_type": "code",
   "execution_count": 16,
   "metadata": {},
   "outputs": [
    {
     "data": {
      "text/plain": [
       "2796.66"
      ]
     },
     "execution_count": 16,
     "metadata": {},
     "output_type": "execute_result"
    }
   ],
   "source": [
    "# Navigate the BTC response object to access the current price of ETH\n",
    "eth_price = eth_response['data']['1027']['quotes']['USD']['price']\n",
    "\n",
    "# Print the current price of ETH\n",
    "eth_price\n"
   ]
  },
  {
   "cell_type": "markdown",
   "metadata": {},
   "source": [
    "### Step 4: Calculate the value, in US dollars, of the current amount of each cryptocurrency and of the entire cryptocurrency wallet."
   ]
  },
  {
   "cell_type": "code",
   "execution_count": 17,
   "metadata": {},
   "outputs": [
    {
     "data": {
      "text/plain": [
       "46101.6"
      ]
     },
     "execution_count": 17,
     "metadata": {},
     "output_type": "execute_result"
    }
   ],
   "source": [
    "# Compute the current value of the BTC holding \n",
    "btc_value = btc_coins * btc_price\n",
    "\n",
    "# Print current value of your holding in BTC\n",
    "btc_value\n"
   ]
  },
  {
   "cell_type": "code",
   "execution_count": 18,
   "metadata": {},
   "outputs": [
    {
     "data": {
      "text/plain": [
       "14822.297999999999"
      ]
     },
     "execution_count": 18,
     "metadata": {},
     "output_type": "execute_result"
    }
   ],
   "source": [
    "# Compute the current value of the ETH holding \n",
    "eth_value = eth_coins * eth_price\n",
    "\n",
    "# Print current value of your holding in ETH\n",
    "eth_value\n"
   ]
  },
  {
   "cell_type": "code",
   "execution_count": 56,
   "metadata": {},
   "outputs": [
    {
     "data": {
      "text/plain": [
       "60923.898"
      ]
     },
     "execution_count": 56,
     "metadata": {},
     "output_type": "execute_result"
    }
   ],
   "source": [
    "# Compute the total value of the cryptocurrency wallet\n",
    "# Add the value of the BTC holding to the value of the ETH holding\n",
    "total_crypto_wallet = btc_value + eth_value\n",
    "\n",
    "# Print current cryptocurrency wallet balance\n",
    "total_crypto_wallet\n"
   ]
  },
  {
   "cell_type": "markdown",
   "metadata": {},
   "source": [
    "### Evaluate the Stock and Bond Holdings by Using the Alpaca SDK\n",
    "\n",
    "In this section, you’ll determine the current value of a member’s stock and bond holdings. You’ll make an API call to Alpaca via the Alpaca SDK to get the current closing prices of the SPDR S&P 500 ETF Trust (ticker: SPY) and of the iShares Core US Aggregate Bond ETF (ticker: AGG). For the prototype, assume that the member holds 110 shares of SPY, which represents the stock portion of their portfolio, and 200 shares of AGG, which represents the bond portion. To do all this, complete the following steps:\n",
    "\n",
    "1. In the `Starter_Code` folder, create an environment file (`.env`) to store the values of your Alpaca API key and Alpaca secret key.\n",
    "\n",
    "2. Set the variables for the Alpaca API and secret keys. Using the Alpaca SDK, create the Alpaca `tradeapi.REST` object. In this object, include the parameters for the Alpaca API key, the secret key, and the version number.\n",
    "\n",
    "3. Set the following parameters for the Alpaca API call:\n",
    "\n",
    "    - `tickers`: Use the tickers for the member’s stock and bond holdings.\n",
    "\n",
    "    - `timeframe`: Use a time frame of one day.\n",
    "\n",
    "    - `start_date` and `end_date`: Use the same date for these parameters, and format them with the date of the previous weekday (or `2020-08-07`). This is because you want the one closing price for the most-recent trading day.\n",
    "\n",
    "4. Get the current closing prices for `SPY` and `AGG` by using the Alpaca `get_bars` function. Format the response as a Pandas DataFrame by including the `df` property at the end of the `get_bars` function.\n",
    "\n",
    "5. Navigating the Alpaca response DataFrame, select the `SPY` and `AGG` closing prices, and store them as variables.\n",
    "\n",
    "6. Calculate the value, in US dollars, of the current amount of shares in each of the stock and bond portions of the portfolio, and print the results.\n"
   ]
  },
  {
   "cell_type": "markdown",
   "metadata": {},
   "source": [
    "#### Review the total number of shares held in both (SPY) and (AGG)."
   ]
  },
  {
   "cell_type": "code",
   "execution_count": 20,
   "metadata": {},
   "outputs": [],
   "source": [
    "# Current amount of shares held in both the stock (SPY) and bond (AGG) portion of the portfolio.\n",
    "spy_shares = 110\n",
    "agg_shares = 200\n"
   ]
  },
  {
   "cell_type": "markdown",
   "metadata": {},
   "source": [
    "#### Step 1: In the `Starter_Code` folder, create an environment file (`.env`) to store the values of your Alpaca API key and Alpaca secret key."
   ]
  },
  {
   "cell_type": "markdown",
   "metadata": {},
   "source": [
    "#### Step 2: Set the variables for the Alpaca API and secret keys. Using the Alpaca SDK, create the Alpaca `tradeapi.REST` object. In this object, include the parameters for the Alpaca API key, the secret key, and the version number."
   ]
  },
  {
   "cell_type": "code",
   "execution_count": 22,
   "metadata": {},
   "outputs": [],
   "source": [
    "# Set the variables for the Alpaca API and secret keys\n",
    "alpaca_api_key=os.getenv('ALPACA_API_KEY')\n",
    "alpaca_secret_key=os.getenv('ALPACA_SECRET_KEY')\n",
    "\n",
    "# Create the Alpaca tradeapi.REST object\n",
    "alpaca = tradeapi.REST(\n",
    "    alpaca_api_key,\n",
    "    alpaca_secret_key,\n",
    "    api_version='v2')\n"
   ]
  },
  {
   "cell_type": "markdown",
   "metadata": {},
   "source": [
    "#### Step 3: Set the following parameters for the Alpaca API call:\n",
    "\n",
    "- `tickers`: Use the tickers for the member’s stock and bond holdings.\n",
    "\n",
    "- `timeframe`: Use a time frame of one day.\n",
    "\n",
    "- `start_date` and `end_date`: Use the same date for these parameters, and format them with the date of the previous weekday (or `2020-08-07`). This is because you want the one closing price for the most-recent trading day.\n"
   ]
  },
  {
   "cell_type": "code",
   "execution_count": 26,
   "metadata": {},
   "outputs": [],
   "source": [
    "# Set the tickers for both the bond and stock portion of the portfolio\n",
    "tickers=['SPY','AGG']\n",
    "\n",
    "# Set timeframe to 1Day\n",
    "timeframe = '1Day'\n",
    "\n",
    "# Format current date as ISO format\n",
    "# Set both the start and end date at the date of your prior weekday \n",
    "# This will give you the closing price of the previous trading day\n",
    "# Alternatively you can use a start and end date of 2020-08-07\n",
    "today = pd.Timestamp(\"2022-04-29\", tz=\"America/New_York\").isoformat()\n",
    "start_date=today\n",
    "end_date=today\n"
   ]
  },
  {
   "cell_type": "markdown",
   "metadata": {},
   "source": [
    "#### Step 4: Get the current closing prices for `SPY` and `AGG` by using the Alpaca `get_bars` function. Format the response as a Pandas DataFrame by including the `df` property at the end of the `get_bars` function."
   ]
  },
  {
   "cell_type": "code",
   "execution_count": 30,
   "metadata": {},
   "outputs": [
    {
     "data": {
      "text/html": [
       "<div>\n",
       "<style scoped>\n",
       "    .dataframe tbody tr th:only-of-type {\n",
       "        vertical-align: middle;\n",
       "    }\n",
       "\n",
       "    .dataframe tbody tr th {\n",
       "        vertical-align: top;\n",
       "    }\n",
       "\n",
       "    .dataframe thead tr th {\n",
       "        text-align: left;\n",
       "    }\n",
       "\n",
       "    .dataframe thead tr:last-of-type th {\n",
       "        text-align: right;\n",
       "    }\n",
       "</style>\n",
       "<table border=\"1\" class=\"dataframe\">\n",
       "  <thead>\n",
       "    <tr>\n",
       "      <th></th>\n",
       "      <th colspan=\"7\" halign=\"left\">SPY</th>\n",
       "      <th colspan=\"7\" halign=\"left\">AGG</th>\n",
       "    </tr>\n",
       "    <tr>\n",
       "      <th></th>\n",
       "      <th>open</th>\n",
       "      <th>high</th>\n",
       "      <th>low</th>\n",
       "      <th>close</th>\n",
       "      <th>volume</th>\n",
       "      <th>trade_count</th>\n",
       "      <th>vwap</th>\n",
       "      <th>open</th>\n",
       "      <th>high</th>\n",
       "      <th>low</th>\n",
       "      <th>close</th>\n",
       "      <th>volume</th>\n",
       "      <th>trade_count</th>\n",
       "      <th>vwap</th>\n",
       "    </tr>\n",
       "    <tr>\n",
       "      <th>timestamp</th>\n",
       "      <th></th>\n",
       "      <th></th>\n",
       "      <th></th>\n",
       "      <th></th>\n",
       "      <th></th>\n",
       "      <th></th>\n",
       "      <th></th>\n",
       "      <th></th>\n",
       "      <th></th>\n",
       "      <th></th>\n",
       "      <th></th>\n",
       "      <th></th>\n",
       "      <th></th>\n",
       "      <th></th>\n",
       "    </tr>\n",
       "  </thead>\n",
       "  <tbody>\n",
       "    <tr>\n",
       "      <th>2022-04-29 04:00:00+00:00</th>\n",
       "      <td>423.56</td>\n",
       "      <td>425.87</td>\n",
       "      <td>411.21</td>\n",
       "      <td>412.0</td>\n",
       "      <td>145242451</td>\n",
       "      <td>1143618</td>\n",
       "      <td>416.879474</td>\n",
       "      <td>102.92</td>\n",
       "      <td>103.27</td>\n",
       "      <td>102.82</td>\n",
       "      <td>102.87</td>\n",
       "      <td>9922012</td>\n",
       "      <td>33928</td>\n",
       "      <td>103.00342</td>\n",
       "    </tr>\n",
       "  </tbody>\n",
       "</table>\n",
       "</div>"
      ],
      "text/plain": [
       "                              SPY                                    \\\n",
       "                             open    high     low  close     volume   \n",
       "timestamp                                                             \n",
       "2022-04-29 04:00:00+00:00  423.56  425.87  411.21  412.0  145242451   \n",
       "\n",
       "                                                      AGG                  \\\n",
       "                          trade_count        vwap    open    high     low   \n",
       "timestamp                                                                   \n",
       "2022-04-29 04:00:00+00:00     1143618  416.879474  102.92  103.27  102.82   \n",
       "\n",
       "                                                                   \n",
       "                            close   volume trade_count       vwap  \n",
       "timestamp                                                          \n",
       "2022-04-29 04:00:00+00:00  102.87  9922012       33928  103.00342  "
      ]
     },
     "execution_count": 30,
     "metadata": {},
     "output_type": "execute_result"
    }
   ],
   "source": [
    "# Use the Alpaca get_bars function to get current closing prices the portfolio\n",
    "# Be sure to set the `df` property after the function to format the response object as a DataFrame\n",
    "df_portfolio = alpaca.get_bars(\n",
    "    tickers,\n",
    "    timeframe,\n",
    "    start=start_date,\n",
    "    end=end_date\n",
    ").df\n",
    "\n",
    "df_portfolio\n",
    "\n",
    "# Reorganize the DataFrame\n",
    "# Separate ticker data\n",
    "SPY = df_portfolio[df_portfolio['symbol']=='SPY'].drop('symbol', axis=1)\n",
    "AGG = df_portfolio[df_portfolio['symbol']=='AGG'].drop('symbol', axis=1)\n",
    "\n",
    "# Concatenate the ticker DataFrames\n",
    "df_portfolio = pd.concat([SPY,AGG], axis=1, keys=['SPY','AGG'])\n",
    "\n",
    "# Review the first 5 rows of the Alpaca DataFrame\n",
    "df_portfolio.head(5)\n"
   ]
  },
  {
   "cell_type": "markdown",
   "metadata": {},
   "source": [
    "#### Step 5: Navigating the Alpaca response DataFrame, select the `SPY` and `AGG` closing prices, and store them as variables."
   ]
  },
  {
   "cell_type": "code",
   "execution_count": 61,
   "metadata": {},
   "outputs": [
    {
     "data": {
      "text/plain": [
       "102.92"
      ]
     },
     "execution_count": 61,
     "metadata": {},
     "output_type": "execute_result"
    }
   ],
   "source": [
    "# Access the closing price for AGG from the Alpaca DataFrame\n",
    "# Converting the value to a floating point number\n",
    "agg_close_price = df_portfolio['AGG']['open'].iloc[0]\n",
    "# Print the AGG closing price\n",
    "agg_close_price\n"
   ]
  },
  {
   "cell_type": "code",
   "execution_count": 62,
   "metadata": {},
   "outputs": [
    {
     "data": {
      "text/plain": [
       "423.56"
      ]
     },
     "execution_count": 62,
     "metadata": {},
     "output_type": "execute_result"
    }
   ],
   "source": [
    "# Access the closing price for SPY from the Alpaca DataFrame\n",
    "# Converting the value to a floating point number\n",
    "spy_close_price = df_portfolio['SPY']['open'].iloc[0]\n",
    "# Print the SPY closing price\n",
    "spy_close_price\n"
   ]
  },
  {
   "cell_type": "markdown",
   "metadata": {},
   "source": [
    "#### Step 6: Calculate the value, in US dollars, of the current amount of shares in each of the stock and bond portions of the portfolio, and print the results."
   ]
  },
  {
   "cell_type": "code",
   "execution_count": 63,
   "metadata": {},
   "outputs": [
    {
     "data": {
      "text/plain": [
       "20584.0"
      ]
     },
     "execution_count": 63,
     "metadata": {},
     "output_type": "execute_result"
    }
   ],
   "source": [
    "# Calculate the current value of the bond portion of the portfolio\n",
    "agg_value = agg_shares * agg_close_price\n",
    "\n",
    "# Print the current value of the bond portfolio\n",
    "agg_value\n"
   ]
  },
  {
   "cell_type": "code",
   "execution_count": 64,
   "metadata": {},
   "outputs": [
    {
     "data": {
      "text/plain": [
       "46591.6"
      ]
     },
     "execution_count": 64,
     "metadata": {},
     "output_type": "execute_result"
    }
   ],
   "source": [
    "# Calculate the current value of the stock portion of the portfolio\n",
    "spy_value = spy_shares * spy_close_price\n",
    "\n",
    "# Print the current value of the stock portfolio\n",
    "spy_value\n"
   ]
  },
  {
   "cell_type": "code",
   "execution_count": 65,
   "metadata": {},
   "outputs": [
    {
     "data": {
      "text/plain": [
       "67175.6"
      ]
     },
     "execution_count": 65,
     "metadata": {},
     "output_type": "execute_result"
    }
   ],
   "source": [
    "# Calculate the total value of the stock and bond portion of the portfolio\n",
    "total_stocks_bonds = agg_value + spy_value\n",
    "\n",
    "# Print the current balance of the stock and bond portion of the portfolio\n",
    "total_stocks_bonds\n"
   ]
  },
  {
   "cell_type": "code",
   "execution_count": 66,
   "metadata": {},
   "outputs": [
    {
     "data": {
      "text/plain": [
       "60923.898"
      ]
     },
     "execution_count": 66,
     "metadata": {},
     "output_type": "execute_result"
    }
   ],
   "source": [
    "# Calculate the total value of the member's entire savings portfolio\n",
    "# Add the value of the cryptocurrency wallet to the value of the total stocks and bonds\n",
    "total_portfolio = total_stocks_bonds + total_crypto_wallet\n",
    "\n",
    "# Print current cryptocurrency wallet balance\n",
    "total_crypto_wallet\n",
    "\n",
    "\n"
   ]
  },
  {
   "cell_type": "code",
   "execution_count": 67,
   "metadata": {},
   "outputs": [
    {
     "data": {
      "text/plain": [
       "128099.498"
      ]
     },
     "execution_count": 67,
     "metadata": {},
     "output_type": "execute_result"
    }
   ],
   "source": [
    "# Print current total savings balance\n",
    "total_portfolio"
   ]
  },
  {
   "cell_type": "markdown",
   "metadata": {},
   "source": [
    "### Evaluate the Emergency Fund\n",
    "\n",
    "In this section, you’ll use the valuations for the cryptocurrency wallet and for the stock and bond portions of the portfolio to determine if the credit union member has enough savings to build an emergency fund into their financial plan. To do this, complete the following steps:\n",
    "\n",
    "1. Create a Python list named `savings_data` that has two elements. The first element contains the total value of the cryptocurrency wallet. The second element contains the total value of the stock and bond portions of the portfolio.\n",
    "\n",
    "2. Use the `savings_data` list to create a Pandas DataFrame named `savings_df`, and then display this DataFrame. The function to create the DataFrame should take the following three parameters:\n",
    "\n",
    "    - `savings_data`: Use the list that you just created.\n",
    "\n",
    "    - `columns`: Set this parameter equal to a Python list with a single value called `amount`.\n",
    "\n",
    "    - `index`: Set this parameter equal to a Python list with the values of `crypto` and `stock/bond`.\n",
    "\n",
    "3. Use the `savings_df` DataFrame to plot a pie chart that visualizes the composition of the member’s portfolio. The y-axis of the pie chart uses `amount`. Be sure to add a title.\n",
    "\n",
    "4. Using Python, determine if the current portfolio has enough to create an emergency fund as part of the member’s financial plan. Ideally, an emergency fund should equal to three times the member’s monthly income. To do this, implement the following steps:\n",
    "\n",
    "    1. Create a variable named `emergency_fund_value`, and set it equal to three times the value of the member’s `monthly_income` of $12000. (You set this earlier in Part 1).\n",
    "\n",
    "    2. Create a series of three if statements to determine if the member’s total portfolio is large enough to fund the emergency portfolio:\n",
    "\n",
    "        1. If the total portfolio value is greater than the emergency fund value, display a message congratulating the member for having enough money in this fund.\n",
    "\n",
    "        2. Else if the total portfolio value is equal to the emergency fund value, display a message congratulating the member on reaching this important financial goal.\n",
    "\n",
    "        3. Else the total portfolio is less than the emergency fund value, so display a message showing how many dollars away the member is from reaching the goal. (Subtract the total portfolio value from the emergency fund value.)\n"
   ]
  },
  {
   "cell_type": "markdown",
   "metadata": {},
   "source": [
    "#### Step 1: Create a Python list named `savings_data` that has two elements. The first element contains the total value of the cryptocurrency wallet. The second element contains the total value of the stock and bond portions of the portfolio."
   ]
  },
  {
   "cell_type": "code",
   "execution_count": 68,
   "metadata": {},
   "outputs": [
    {
     "data": {
      "text/plain": [
       "[60923.898, 67175.6]"
      ]
     },
     "execution_count": 68,
     "metadata": {},
     "output_type": "execute_result"
    }
   ],
   "source": [
    "# Consolidate financial assets data into a Python list\n",
    "savings_data=[total_crypto_wallet,total_stocks_bonds]\n",
    "\n",
    "# Review the Python list savings_data\n",
    "savings_data\n",
    "    "
   ]
  },
  {
   "cell_type": "markdown",
   "metadata": {},
   "source": [
    "#### Step 2: Use the `savings_data` list to create a Pandas DataFrame named `savings_df`, and then display this DataFrame. The function to create the DataFrame should take the following three parameters:\n",
    "\n",
    "- `savings_data`: Use the list that you just created.\n",
    "\n",
    "- `columns`: Set this parameter equal to a Python list with a single value called `amount`.\n",
    "\n",
    "- `index`: Set this parameter equal to a Python list with the values of `crypto` and `stock/bond`.\n"
   ]
  },
  {
   "cell_type": "code",
   "execution_count": 75,
   "metadata": {},
   "outputs": [
    {
     "data": {
      "text/html": [
       "<div>\n",
       "<style scoped>\n",
       "    .dataframe tbody tr th:only-of-type {\n",
       "        vertical-align: middle;\n",
       "    }\n",
       "\n",
       "    .dataframe tbody tr th {\n",
       "        vertical-align: top;\n",
       "    }\n",
       "\n",
       "    .dataframe thead th {\n",
       "        text-align: right;\n",
       "    }\n",
       "</style>\n",
       "<table border=\"1\" class=\"dataframe\">\n",
       "  <thead>\n",
       "    <tr style=\"text-align: right;\">\n",
       "      <th></th>\n",
       "      <th>amount</th>\n",
       "    </tr>\n",
       "  </thead>\n",
       "  <tbody>\n",
       "    <tr>\n",
       "      <th>crypto</th>\n",
       "      <td>60923.898</td>\n",
       "    </tr>\n",
       "    <tr>\n",
       "      <th>stock/bond</th>\n",
       "      <td>67175.600</td>\n",
       "    </tr>\n",
       "  </tbody>\n",
       "</table>\n",
       "</div>"
      ],
      "text/plain": [
       "               amount\n",
       "crypto      60923.898\n",
       "stock/bond  67175.600"
      ]
     },
     "execution_count": 75,
     "metadata": {},
     "output_type": "execute_result"
    }
   ],
   "source": [
    "# Create a Pandas DataFrame called savings_df \n",
    "savings_df = pd.DataFrame(savings_data, columns=['amount'], index=['crypto','stock/bond'])\n",
    "\n",
    "# Display the savings_df DataFrame\n",
    "savings_df\n"
   ]
  },
  {
   "cell_type": "markdown",
   "metadata": {},
   "source": [
    "#### Step 3: Use the `savings_df` DataFrame to plot a pie chart that visualizes the composition of the member’s portfolio. The y-axis of the pie chart uses `amount`. Be sure to add a title."
   ]
  },
  {
   "cell_type": "code",
   "execution_count": 82,
   "metadata": {},
   "outputs": [
    {
     "data": {
      "text/plain": [
       "<AxesSubplot:title={'center':'Savings Portfolio'}, ylabel='amount'>"
      ]
     },
     "execution_count": 82,
     "metadata": {},
     "output_type": "execute_result"
    },
    {
     "data": {
      "image/png": "[encoded data removed]",
      "text/plain": [
       "<Figure size 432x288 with 1 Axes>"
      ]
     },
     "metadata": {},
     "output_type": "display_data"
    }
   ],
   "source": [
    "# Plot the total value of the member's portfolio (crypto and stock/bond) in a pie chart\n",
    "savings_df.plot(kind='pie', title='Savings Portfolio', y='amount', legend=False)\n"
   ]
  },
  {
   "cell_type": "markdown",
   "metadata": {},
   "source": [
    "#### Step 4: Using Python, determine if the current portfolio has enough to create an emergency fund as part of the member’s financial plan. Ideally, an emergency fund should equal to three times the member’s monthly income. To do this, implement the following steps:\n",
    "\n",
    "Step 1. Create a variable named `emergency_fund_value`, and set it equal to three times the value of the member’s `monthly_income` of 12000. (You set this earlier in Part 1).\n",
    "\n",
    "Step 2. Create a series of three if statements to determine if the member’s total portfolio is large enough to fund the emergency portfolio:\n",
    "\n",
    "* If the total portfolio value is greater than the emergency fund value, display a message congratulating the member for having enough money in this fund.\n",
    "\n",
    "* Else if the total portfolio value is equal to the emergency fund value, display a message congratulating the member on reaching this important financial goal.\n",
    "\n",
    "* Else the total portfolio is less than the emergency fund value, so display a message showing how many dollars away the member is from reaching the goal. (Subtract the total portfolio value from the emergency fund value.)\n"
   ]
  },
  {
   "cell_type": "markdown",
   "metadata": {},
   "source": [
    "##### Step 4-1: Create a variable named `emergency_fund_value`, and set it equal to three times the value of the member’s `monthly_income` of 12000. (You set this earlier in Part 1)."
   ]
  },
  {
   "cell_type": "code",
   "execution_count": 84,
   "metadata": {},
   "outputs": [
    {
     "data": {
      "text/plain": [
       "36000"
      ]
     },
     "execution_count": 84,
     "metadata": {},
     "output_type": "execute_result"
    }
   ],
   "source": [
    "# Create a variable named emergency_fund_value\n",
    "emergency_fund_value = 3 * monthly_income"
   ]
  },
  {
   "cell_type": "markdown",
   "metadata": {},
   "source": [
    "##### Step 4-2: Create a series of three if statements to determine if the member’s total portfolio is large enough to fund the emergency portfolio:\n",
    "\n",
    "* If the total portfolio value is greater than the emergency fund value, display a message congratulating the member for having enough money in this fund.\n",
    "\n",
    "* Else if the total portfolio value is equal to the emergency fund value, display a message congratulating the member on reaching this important financial goal.\n",
    "\n",
    "* Else the total portfolio is less than the emergency fund value, so display a message showing how many dollars away the member is from reaching the goal. (Subtract the total portfolio value from the emergency fund value.)"
   ]
  },
  {
   "cell_type": "code",
   "execution_count": 88,
   "metadata": {},
   "outputs": [
    {
     "name": "stdout",
     "output_type": "stream",
     "text": [
      "Good job on reaching an important savings milestone!\n"
     ]
    }
   ],
   "source": [
    "# Evaluate the possibility of creating an emergency fund with 3 conditions:\n",
    "if total_portfolio > emergency_fund_value :\n",
    "    print(\"Congratulations! your savings portfolio is larger than the Emergency Fund goal.\")\n",
    "elif total_portfolio == emergency_fund_value :\n",
    "    print(\"Good job on reaching an important savings milestone of an Emergency Fund. Keep saving more!\")\n",
    "else :\n",
    "    emergency_deficit = emergency_fund_value - total_portfolio\n",
    "    print(f\"Keep up the good work. You are ${emergency_deficit} away from reaching your Emergency Fund goal.\")\n",
    "    "
   ]
  },
  {
   "cell_type": "markdown",
   "metadata": {},
   "source": [
    "## Part 2: Create a Financial Planner for Retirement"
   ]
  },
  {
   "cell_type": "markdown",
   "metadata": {},
   "source": [
    "### Create the Monte Carlo Simulation\n",
    "\n",
    "In this section, you’ll use the MCForecastTools library to create a Monte Carlo simulation for the member’s savings portfolio. To do this, complete the following steps:\n",
    "\n",
    "1. Make an API call via the Alpaca SDK to get 3 years of historical closing prices for a traditional 60/40 portfolio split: 60% stocks (SPY) and 40% bonds (AGG).\n",
    "\n",
    "2. Run a Monte Carlo simulation of 500 samples and 30 years for the 60/40 portfolio, and then plot the results.The following image shows the overlay line plot resulting from a simulation with these characteristics. However, because a random number generator is used to run each live Monte Carlo simulation, your image will differ slightly from this exact image:\n",
    "\n",
    "![A screenshot depicts the resulting plot.](Images/5-4-monte-carlo-line-plot.png)\n",
    "\n",
    "3. Plot the probability distribution of the Monte Carlo simulation. Plot the probability distribution of the Monte Carlo simulation. The following image shows the histogram plot resulting from a simulation with these characteristics. However, because a random number generator is used to run each live Monte Carlo simulation, your image will differ slightly from this exact image:\n",
    "\n",
    "![A screenshot depicts the histogram plot.](Images/5-4-monte-carlo-histogram.png)\n",
    "\n",
    "4. Generate the summary statistics for the Monte Carlo simulation.\n",
    "\n"
   ]
  },
  {
   "cell_type": "markdown",
   "metadata": {},
   "source": [
    "#### Step 1: Make an API call via the Alpaca SDK to get 3 years of historical closing prices for a traditional 60/40 portfolio split: 60% stocks (SPY) and 40% bonds (AGG)."
   ]
  },
  {
   "cell_type": "code",
   "execution_count": 126,
   "metadata": {},
   "outputs": [],
   "source": [
    "# Set start and end dates of 3 years back from your current date\n",
    "# Alternatively, you can use an end date of 2020-08-07 and work 3 years back from that date \n",
    "end_date = today.isoformat()\n",
    "start_date = (today - pd.DateOffset(years=3)).isoformat()\n",
    "timeframe='1Day'\n",
    "\n",
    "# # Set number of rows to 1000 to retrieve the maximum amount of rows\n",
    "limit=1000"
   ]
  },
  {
   "cell_type": "code",
   "execution_count": 129,
   "metadata": {},
   "outputs": [
    {
     "data": {
      "text/html": [
       "<div>\n",
       "<style scoped>\n",
       "    .dataframe tbody tr th:only-of-type {\n",
       "        vertical-align: middle;\n",
       "    }\n",
       "\n",
       "    .dataframe tbody tr th {\n",
       "        vertical-align: top;\n",
       "    }\n",
       "\n",
       "    .dataframe thead tr th {\n",
       "        text-align: left;\n",
       "    }\n",
       "\n",
       "    .dataframe thead tr:last-of-type th {\n",
       "        text-align: right;\n",
       "    }\n",
       "</style>\n",
       "<table border=\"1\" class=\"dataframe\">\n",
       "  <thead>\n",
       "    <tr>\n",
       "      <th></th>\n",
       "      <th colspan=\"7\" halign=\"left\">SPY</th>\n",
       "      <th colspan=\"7\" halign=\"left\">AGG</th>\n",
       "    </tr>\n",
       "    <tr>\n",
       "      <th></th>\n",
       "      <th>open</th>\n",
       "      <th>high</th>\n",
       "      <th>low</th>\n",
       "      <th>close</th>\n",
       "      <th>volume</th>\n",
       "      <th>trade_count</th>\n",
       "      <th>vwap</th>\n",
       "      <th>open</th>\n",
       "      <th>high</th>\n",
       "      <th>low</th>\n",
       "      <th>close</th>\n",
       "      <th>volume</th>\n",
       "      <th>trade_count</th>\n",
       "      <th>vwap</th>\n",
       "    </tr>\n",
       "    <tr>\n",
       "      <th>timestamp</th>\n",
       "      <th></th>\n",
       "      <th></th>\n",
       "      <th></th>\n",
       "      <th></th>\n",
       "      <th></th>\n",
       "      <th></th>\n",
       "      <th></th>\n",
       "      <th></th>\n",
       "      <th></th>\n",
       "      <th></th>\n",
       "      <th></th>\n",
       "      <th></th>\n",
       "      <th></th>\n",
       "      <th></th>\n",
       "    </tr>\n",
       "  </thead>\n",
       "  <tbody>\n",
       "    <tr>\n",
       "      <th>2019-04-29 04:00:00+00:00</th>\n",
       "      <td>293.53</td>\n",
       "      <td>294.45</td>\n",
       "      <td>293.4100</td>\n",
       "      <td>293.87</td>\n",
       "      <td>61675682.0</td>\n",
       "      <td>186857.0</td>\n",
       "      <td>293.871519</td>\n",
       "      <td>108.56</td>\n",
       "      <td>108.620</td>\n",
       "      <td>108.4900</td>\n",
       "      <td>108.52</td>\n",
       "      <td>2782634</td>\n",
       "      <td>8977</td>\n",
       "      <td>108.539174</td>\n",
       "    </tr>\n",
       "    <tr>\n",
       "      <th>2019-04-30 04:00:00+00:00</th>\n",
       "      <td>293.52</td>\n",
       "      <td>294.34</td>\n",
       "      <td>291.9200</td>\n",
       "      <td>294.02</td>\n",
       "      <td>81411933.0</td>\n",
       "      <td>254912.0</td>\n",
       "      <td>293.551590</td>\n",
       "      <td>108.56</td>\n",
       "      <td>108.680</td>\n",
       "      <td>108.5135</td>\n",
       "      <td>108.59</td>\n",
       "      <td>7491505</td>\n",
       "      <td>17892</td>\n",
       "      <td>108.620462</td>\n",
       "    </tr>\n",
       "    <tr>\n",
       "      <th>2019-05-01 04:00:00+00:00</th>\n",
       "      <td>294.76</td>\n",
       "      <td>294.95</td>\n",
       "      <td>291.8000</td>\n",
       "      <td>291.81</td>\n",
       "      <td>71921870.0</td>\n",
       "      <td>337374.0</td>\n",
       "      <td>293.457138</td>\n",
       "      <td>108.47</td>\n",
       "      <td>108.760</td>\n",
       "      <td>108.3200</td>\n",
       "      <td>108.40</td>\n",
       "      <td>6387911</td>\n",
       "      <td>23490</td>\n",
       "      <td>108.455634</td>\n",
       "    </tr>\n",
       "    <tr>\n",
       "      <th>2019-05-02 04:00:00+00:00</th>\n",
       "      <td>291.68</td>\n",
       "      <td>292.70</td>\n",
       "      <td>289.5200</td>\n",
       "      <td>291.18</td>\n",
       "      <td>65058183.0</td>\n",
       "      <td>342564.0</td>\n",
       "      <td>291.101680</td>\n",
       "      <td>108.30</td>\n",
       "      <td>108.330</td>\n",
       "      <td>108.1000</td>\n",
       "      <td>108.16</td>\n",
       "      <td>3379510</td>\n",
       "      <td>10083</td>\n",
       "      <td>108.172602</td>\n",
       "    </tr>\n",
       "    <tr>\n",
       "      <th>2019-05-03 04:00:00+00:00</th>\n",
       "      <td>292.80</td>\n",
       "      <td>294.34</td>\n",
       "      <td>291.2998</td>\n",
       "      <td>294.03</td>\n",
       "      <td>56579556.0</td>\n",
       "      <td>249557.0</td>\n",
       "      <td>293.438891</td>\n",
       "      <td>108.32</td>\n",
       "      <td>108.420</td>\n",
       "      <td>108.2750</td>\n",
       "      <td>108.34</td>\n",
       "      <td>2326299</td>\n",
       "      <td>11699</td>\n",
       "      <td>108.329456</td>\n",
       "    </tr>\n",
       "    <tr>\n",
       "      <th>...</th>\n",
       "      <td>...</td>\n",
       "      <td>...</td>\n",
       "      <td>...</td>\n",
       "      <td>...</td>\n",
       "      <td>...</td>\n",
       "      <td>...</td>\n",
       "      <td>...</td>\n",
       "      <td>...</td>\n",
       "      <td>...</td>\n",
       "      <td>...</td>\n",
       "      <td>...</td>\n",
       "      <td>...</td>\n",
       "      <td>...</td>\n",
       "      <td>...</td>\n",
       "    </tr>\n",
       "    <tr>\n",
       "      <th>2020-04-03 04:00:00+00:00</th>\n",
       "      <td>250.81</td>\n",
       "      <td>253.32</td>\n",
       "      <td>245.2200</td>\n",
       "      <td>248.19</td>\n",
       "      <td>135784192.0</td>\n",
       "      <td>998214.0</td>\n",
       "      <td>248.562265</td>\n",
       "      <td>114.95</td>\n",
       "      <td>115.125</td>\n",
       "      <td>114.2800</td>\n",
       "      <td>114.98</td>\n",
       "      <td>9786815</td>\n",
       "      <td>33604</td>\n",
       "      <td>114.897746</td>\n",
       "    </tr>\n",
       "    <tr>\n",
       "      <th>2020-04-06 04:00:00+00:00</th>\n",
       "      <td>258.05</td>\n",
       "      <td>267.00</td>\n",
       "      <td>248.1698</td>\n",
       "      <td>264.86</td>\n",
       "      <td>188090253.0</td>\n",
       "      <td>1033647.0</td>\n",
       "      <td>260.775551</td>\n",
       "      <td>115.02</td>\n",
       "      <td>115.610</td>\n",
       "      <td>115.0200</td>\n",
       "      <td>115.54</td>\n",
       "      <td>8573407</td>\n",
       "      <td>30912</td>\n",
       "      <td>115.259818</td>\n",
       "    </tr>\n",
       "    <tr>\n",
       "      <th>2020-04-07 04:00:00+00:00</th>\n",
       "      <td>274.30</td>\n",
       "      <td>275.03</td>\n",
       "      <td>264.8900</td>\n",
       "      <td>265.13</td>\n",
       "      <td>201450339.0</td>\n",
       "      <td>1292810.0</td>\n",
       "      <td>269.619973</td>\n",
       "      <td>115.61</td>\n",
       "      <td>115.740</td>\n",
       "      <td>115.3600</td>\n",
       "      <td>115.70</td>\n",
       "      <td>7743944</td>\n",
       "      <td>26688</td>\n",
       "      <td>115.585131</td>\n",
       "    </tr>\n",
       "    <tr>\n",
       "      <th>2020-04-08 04:00:00+00:00</th>\n",
       "      <td>268.05</td>\n",
       "      <td>276.00</td>\n",
       "      <td>265.2542</td>\n",
       "      <td>274.03</td>\n",
       "      <td>153774685.0</td>\n",
       "      <td>950862.0</td>\n",
       "      <td>271.051459</td>\n",
       "      <td>115.70</td>\n",
       "      <td>115.970</td>\n",
       "      <td>115.5500</td>\n",
       "      <td>115.81</td>\n",
       "      <td>4674198</td>\n",
       "      <td>25337</td>\n",
       "      <td>115.824215</td>\n",
       "    </tr>\n",
       "    <tr>\n",
       "      <th>2020-04-09 04:00:00+00:00</th>\n",
       "      <td>277.81</td>\n",
       "      <td>281.20</td>\n",
       "      <td>275.4700</td>\n",
       "      <td>278.20</td>\n",
       "      <td>190283195.0</td>\n",
       "      <td>1171999.0</td>\n",
       "      <td>278.251697</td>\n",
       "      <td>116.50</td>\n",
       "      <td>117.250</td>\n",
       "      <td>116.1700</td>\n",
       "      <td>117.25</td>\n",
       "      <td>5584110</td>\n",
       "      <td>25796</td>\n",
       "      <td>117.029092</td>\n",
       "    </tr>\n",
       "  </tbody>\n",
       "</table>\n",
       "<p>241 rows × 14 columns</p>\n",
       "</div>"
      ],
      "text/plain": [
       "                              SPY                                         \\\n",
       "                             open    high       low   close       volume   \n",
       "timestamp                                                                  \n",
       "2019-04-29 04:00:00+00:00  293.53  294.45  293.4100  293.87   61675682.0   \n",
       "2019-04-30 04:00:00+00:00  293.52  294.34  291.9200  294.02   81411933.0   \n",
       "2019-05-01 04:00:00+00:00  294.76  294.95  291.8000  291.81   71921870.0   \n",
       "2019-05-02 04:00:00+00:00  291.68  292.70  289.5200  291.18   65058183.0   \n",
       "2019-05-03 04:00:00+00:00  292.80  294.34  291.2998  294.03   56579556.0   \n",
       "...                           ...     ...       ...     ...          ...   \n",
       "2020-04-03 04:00:00+00:00  250.81  253.32  245.2200  248.19  135784192.0   \n",
       "2020-04-06 04:00:00+00:00  258.05  267.00  248.1698  264.86  188090253.0   \n",
       "2020-04-07 04:00:00+00:00  274.30  275.03  264.8900  265.13  201450339.0   \n",
       "2020-04-08 04:00:00+00:00  268.05  276.00  265.2542  274.03  153774685.0   \n",
       "2020-04-09 04:00:00+00:00  277.81  281.20  275.4700  278.20  190283195.0   \n",
       "\n",
       "                                                      AGG                     \\\n",
       "                          trade_count        vwap    open     high       low   \n",
       "timestamp                                                                      \n",
       "2019-04-29 04:00:00+00:00    186857.0  293.871519  108.56  108.620  108.4900   \n",
       "2019-04-30 04:00:00+00:00    254912.0  293.551590  108.56  108.680  108.5135   \n",
       "2019-05-01 04:00:00+00:00    337374.0  293.457138  108.47  108.760  108.3200   \n",
       "2019-05-02 04:00:00+00:00    342564.0  291.101680  108.30  108.330  108.1000   \n",
       "2019-05-03 04:00:00+00:00    249557.0  293.438891  108.32  108.420  108.2750   \n",
       "...                               ...         ...     ...      ...       ...   \n",
       "2020-04-03 04:00:00+00:00    998214.0  248.562265  114.95  115.125  114.2800   \n",
       "2020-04-06 04:00:00+00:00   1033647.0  260.775551  115.02  115.610  115.0200   \n",
       "2020-04-07 04:00:00+00:00   1292810.0  269.619973  115.61  115.740  115.3600   \n",
       "2020-04-08 04:00:00+00:00    950862.0  271.051459  115.70  115.970  115.5500   \n",
       "2020-04-09 04:00:00+00:00   1171999.0  278.251697  116.50  117.250  116.1700   \n",
       "\n",
       "                                                                    \n",
       "                            close   volume trade_count        vwap  \n",
       "timestamp                                                           \n",
       "2019-04-29 04:00:00+00:00  108.52  2782634        8977  108.539174  \n",
       "2019-04-30 04:00:00+00:00  108.59  7491505       17892  108.620462  \n",
       "2019-05-01 04:00:00+00:00  108.40  6387911       23490  108.455634  \n",
       "2019-05-02 04:00:00+00:00  108.16  3379510       10083  108.172602  \n",
       "2019-05-03 04:00:00+00:00  108.34  2326299       11699  108.329456  \n",
       "...                           ...      ...         ...         ...  \n",
       "2020-04-03 04:00:00+00:00  114.98  9786815       33604  114.897746  \n",
       "2020-04-06 04:00:00+00:00  115.54  8573407       30912  115.259818  \n",
       "2020-04-07 04:00:00+00:00  115.70  7743944       26688  115.585131  \n",
       "2020-04-08 04:00:00+00:00  115.81  4674198       25337  115.824215  \n",
       "2020-04-09 04:00:00+00:00  117.25  5584110       25796  117.029092  \n",
       "\n",
       "[241 rows x 14 columns]"
      ]
     },
     "execution_count": 129,
     "metadata": {},
     "output_type": "execute_result"
    }
   ],
   "source": [
    "# Use the Alpaca get_bars function to make the API call to get the 3 years worth of pricing data\n",
    "# The tickers and timeframe parameters should have been set in Part 1 of this activity \n",
    "# The start and end dates should be updated with the information set above\n",
    "# Remember to add the df property to the end of the call so the response is returned as a DataFrame\n",
    "hist_df = alpaca.get_bars(\n",
    "    tickers,\n",
    "    timeframe,\n",
    "    start=start_date,\n",
    "    end=end_date,\n",
    "    limit=limit).df\n",
    "\n",
    "# hist_df.head(1000)\n",
    "# Reorganize the DataFrame\n",
    "# Separate ticker data\n",
    "spy_df = hist_df[hist_df['symbol']=='SPY'].drop(columns=['symbol'],axis=1)\n",
    "agg_df = hist_df[hist_df['symbol']=='AGG'].drop(columns=['symbol'],axis=1)\n",
    "\n",
    "\n",
    "# Concatenate the ticker DataFrames\n",
    "hist_df = pd.concat([spy_df, agg_df], axis=1, keys=['SPY','AGG']).dropna()\n",
    "\n",
    "# Display both the first and last five rows of the DataFrame\n",
    "hist_df\n"
   ]
  },
  {
   "cell_type": "markdown",
   "metadata": {},
   "source": [
    "#### Step 2: Run a Monte Carlo simulation of 500 samples and 30 years for the 60/40 portfolio, and then plot the results."
   ]
  },
  {
   "cell_type": "code",
   "execution_count": 135,
   "metadata": {},
   "outputs": [
    {
     "data": {
      "text/html": [
       "<div>\n",
       "<style scoped>\n",
       "    .dataframe tbody tr th:only-of-type {\n",
       "        vertical-align: middle;\n",
       "    }\n",
       "\n",
       "    .dataframe tbody tr th {\n",
       "        vertical-align: top;\n",
       "    }\n",
       "\n",
       "    .dataframe thead tr th {\n",
       "        text-align: left;\n",
       "    }\n",
       "\n",
       "    .dataframe thead tr:last-of-type th {\n",
       "        text-align: right;\n",
       "    }\n",
       "</style>\n",
       "<table border=\"1\" class=\"dataframe\">\n",
       "  <thead>\n",
       "    <tr>\n",
       "      <th></th>\n",
       "      <th colspan=\"8\" halign=\"left\">SPY</th>\n",
       "      <th colspan=\"8\" halign=\"left\">AGG</th>\n",
       "    </tr>\n",
       "    <tr>\n",
       "      <th></th>\n",
       "      <th>open</th>\n",
       "      <th>high</th>\n",
       "      <th>low</th>\n",
       "      <th>close</th>\n",
       "      <th>volume</th>\n",
       "      <th>trade_count</th>\n",
       "      <th>vwap</th>\n",
       "      <th>daily_return</th>\n",
       "      <th>open</th>\n",
       "      <th>high</th>\n",
       "      <th>low</th>\n",
       "      <th>close</th>\n",
       "      <th>volume</th>\n",
       "      <th>trade_count</th>\n",
       "      <th>vwap</th>\n",
       "      <th>daily_return</th>\n",
       "    </tr>\n",
       "    <tr>\n",
       "      <th>timestamp</th>\n",
       "      <th></th>\n",
       "      <th></th>\n",
       "      <th></th>\n",
       "      <th></th>\n",
       "      <th></th>\n",
       "      <th></th>\n",
       "      <th></th>\n",
       "      <th></th>\n",
       "      <th></th>\n",
       "      <th></th>\n",
       "      <th></th>\n",
       "      <th></th>\n",
       "      <th></th>\n",
       "      <th></th>\n",
       "      <th></th>\n",
       "      <th></th>\n",
       "    </tr>\n",
       "  </thead>\n",
       "  <tbody>\n",
       "    <tr>\n",
       "      <th>2019-04-29 04:00:00+00:00</th>\n",
       "      <td>293.53</td>\n",
       "      <td>294.45</td>\n",
       "      <td>293.4100</td>\n",
       "      <td>293.87</td>\n",
       "      <td>61675682.0</td>\n",
       "      <td>186857.0</td>\n",
       "      <td>293.871519</td>\n",
       "      <td>NaN</td>\n",
       "      <td>108.56</td>\n",
       "      <td>108.62</td>\n",
       "      <td>108.4900</td>\n",
       "      <td>108.52</td>\n",
       "      <td>2782634</td>\n",
       "      <td>8977</td>\n",
       "      <td>108.539174</td>\n",
       "      <td>NaN</td>\n",
       "    </tr>\n",
       "    <tr>\n",
       "      <th>2019-04-30 04:00:00+00:00</th>\n",
       "      <td>293.52</td>\n",
       "      <td>294.34</td>\n",
       "      <td>291.9200</td>\n",
       "      <td>294.02</td>\n",
       "      <td>81411933.0</td>\n",
       "      <td>254912.0</td>\n",
       "      <td>293.551590</td>\n",
       "      <td>0.000510</td>\n",
       "      <td>108.56</td>\n",
       "      <td>108.68</td>\n",
       "      <td>108.5135</td>\n",
       "      <td>108.59</td>\n",
       "      <td>7491505</td>\n",
       "      <td>17892</td>\n",
       "      <td>108.620462</td>\n",
       "      <td>0.000645</td>\n",
       "    </tr>\n",
       "    <tr>\n",
       "      <th>2019-05-01 04:00:00+00:00</th>\n",
       "      <td>294.76</td>\n",
       "      <td>294.95</td>\n",
       "      <td>291.8000</td>\n",
       "      <td>291.81</td>\n",
       "      <td>71921870.0</td>\n",
       "      <td>337374.0</td>\n",
       "      <td>293.457138</td>\n",
       "      <td>-0.007516</td>\n",
       "      <td>108.47</td>\n",
       "      <td>108.76</td>\n",
       "      <td>108.3200</td>\n",
       "      <td>108.40</td>\n",
       "      <td>6387911</td>\n",
       "      <td>23490</td>\n",
       "      <td>108.455634</td>\n",
       "      <td>-0.001750</td>\n",
       "    </tr>\n",
       "    <tr>\n",
       "      <th>2019-05-02 04:00:00+00:00</th>\n",
       "      <td>291.68</td>\n",
       "      <td>292.70</td>\n",
       "      <td>289.5200</td>\n",
       "      <td>291.18</td>\n",
       "      <td>65058183.0</td>\n",
       "      <td>342564.0</td>\n",
       "      <td>291.101680</td>\n",
       "      <td>-0.002159</td>\n",
       "      <td>108.30</td>\n",
       "      <td>108.33</td>\n",
       "      <td>108.1000</td>\n",
       "      <td>108.16</td>\n",
       "      <td>3379510</td>\n",
       "      <td>10083</td>\n",
       "      <td>108.172602</td>\n",
       "      <td>-0.002214</td>\n",
       "    </tr>\n",
       "    <tr>\n",
       "      <th>2019-05-03 04:00:00+00:00</th>\n",
       "      <td>292.80</td>\n",
       "      <td>294.34</td>\n",
       "      <td>291.2998</td>\n",
       "      <td>294.03</td>\n",
       "      <td>56579556.0</td>\n",
       "      <td>249557.0</td>\n",
       "      <td>293.438891</td>\n",
       "      <td>0.009788</td>\n",
       "      <td>108.32</td>\n",
       "      <td>108.42</td>\n",
       "      <td>108.2750</td>\n",
       "      <td>108.34</td>\n",
       "      <td>2326299</td>\n",
       "      <td>11699</td>\n",
       "      <td>108.329456</td>\n",
       "      <td>0.001664</td>\n",
       "    </tr>\n",
       "  </tbody>\n",
       "</table>\n",
       "</div>"
      ],
      "text/plain": [
       "                              SPY                                        \\\n",
       "                             open    high       low   close      volume   \n",
       "timestamp                                                                 \n",
       "2019-04-29 04:00:00+00:00  293.53  294.45  293.4100  293.87  61675682.0   \n",
       "2019-04-30 04:00:00+00:00  293.52  294.34  291.9200  294.02  81411933.0   \n",
       "2019-05-01 04:00:00+00:00  294.76  294.95  291.8000  291.81  71921870.0   \n",
       "2019-05-02 04:00:00+00:00  291.68  292.70  289.5200  291.18  65058183.0   \n",
       "2019-05-03 04:00:00+00:00  292.80  294.34  291.2998  294.03  56579556.0   \n",
       "\n",
       "                                                                   AGG  \\\n",
       "                          trade_count        vwap daily_return    open   \n",
       "timestamp                                                                \n",
       "2019-04-29 04:00:00+00:00    186857.0  293.871519          NaN  108.56   \n",
       "2019-04-30 04:00:00+00:00    254912.0  293.551590     0.000510  108.56   \n",
       "2019-05-01 04:00:00+00:00    337374.0  293.457138    -0.007516  108.47   \n",
       "2019-05-02 04:00:00+00:00    342564.0  291.101680    -0.002159  108.30   \n",
       "2019-05-03 04:00:00+00:00    249557.0  293.438891     0.009788  108.32   \n",
       "\n",
       "                                                                          \\\n",
       "                             high       low   close   volume trade_count   \n",
       "timestamp                                                                  \n",
       "2019-04-29 04:00:00+00:00  108.62  108.4900  108.52  2782634        8977   \n",
       "2019-04-30 04:00:00+00:00  108.68  108.5135  108.59  7491505       17892   \n",
       "2019-05-01 04:00:00+00:00  108.76  108.3200  108.40  6387911       23490   \n",
       "2019-05-02 04:00:00+00:00  108.33  108.1000  108.16  3379510       10083   \n",
       "2019-05-03 04:00:00+00:00  108.42  108.2750  108.34  2326299       11699   \n",
       "\n",
       "                                                    \n",
       "                                 vwap daily_return  \n",
       "timestamp                                           \n",
       "2019-04-29 04:00:00+00:00  108.539174          NaN  \n",
       "2019-04-30 04:00:00+00:00  108.620462     0.000645  \n",
       "2019-05-01 04:00:00+00:00  108.455634    -0.001750  \n",
       "2019-05-02 04:00:00+00:00  108.172602    -0.002214  \n",
       "2019-05-03 04:00:00+00:00  108.329456     0.001664  "
      ]
     },
     "execution_count": 135,
     "metadata": {},
     "output_type": "execute_result"
    }
   ],
   "source": [
    "# Configure the Monte Carlo simulation to forecast 30 years cumulative returns\n",
    "# The weights should be split 40% to AGG and 60% to SPY.\n",
    "# Run 500 samples.\n",
    "weights = [0.6, 0.4]\n",
    "simulations = 500 \n",
    "trading_days = 252 * 30\n",
    "# Review the simulation input data\n",
    "thirty_year_simulation = MCSimulation(\n",
    "    portfolio_data=hist_df,\n",
    "    weights=weights,\n",
    "    num_simulation=simulations,\n",
    "    num_trading_days=trading_days\n",
    ")\n",
    "thirty_year_simulation.portfolio_data.head()\n"
   ]
  },
  {
   "cell_type": "code",
   "execution_count": 159,
   "metadata": {},
   "outputs": [
    {
     "name": "stdout",
     "output_type": "stream",
     "text": [
      "Running Monte Carlo simulation number 0.\n",
      "Running Monte Carlo simulation number 10.\n",
      "Running Monte Carlo simulation number 20.\n",
      "Running Monte Carlo simulation number 30.\n",
      "Running Monte Carlo simulation number 40.\n",
      "Running Monte Carlo simulation number 50.\n",
      "Running Monte Carlo simulation number 60.\n",
      "Running Monte Carlo simulation number 70.\n",
      "Running Monte Carlo simulation number 80.\n",
      "Running Monte Carlo simulation number 90.\n",
      "Running Monte Carlo simulation number 100.\n",
      "Running Monte Carlo simulation number 110.\n",
      "Running Monte Carlo simulation number 120.\n",
      "Running Monte Carlo simulation number 130.\n",
      "Running Monte Carlo simulation number 140.\n",
      "Running Monte Carlo simulation number 150.\n",
      "Running Monte Carlo simulation number 160.\n",
      "Running Monte Carlo simulation number 170.\n",
      "Running Monte Carlo simulation number 180.\n",
      "Running Monte Carlo simulation number 190.\n",
      "Running Monte Carlo simulation number 200.\n",
      "Running Monte Carlo simulation number 210.\n",
      "Running Monte Carlo simulation number 220.\n",
      "Running Monte Carlo simulation number 230.\n",
      "Running Monte Carlo simulation number 240.\n",
      "Running Monte Carlo simulation number 250.\n",
      "Running Monte Carlo simulation number 260.\n",
      "Running Monte Carlo simulation number 270.\n",
      "Running Monte Carlo simulation number 280.\n",
      "Running Monte Carlo simulation number 290.\n",
      "Running Monte Carlo simulation number 300.\n",
      "Running Monte Carlo simulation number 310.\n",
      "Running Monte Carlo simulation number 320.\n",
      "Running Monte Carlo simulation number 330.\n",
      "Running Monte Carlo simulation number 340.\n",
      "Running Monte Carlo simulation number 350.\n",
      "Running Monte Carlo simulation number 360.\n",
      "Running Monte Carlo simulation number 370.\n",
      "Running Monte Carlo simulation number 380.\n",
      "Running Monte Carlo simulation number 390.\n",
      "Running Monte Carlo simulation number 400.\n",
      "Running Monte Carlo simulation number 410.\n",
      "Running Monte Carlo simulation number 420.\n",
      "Running Monte Carlo simulation number 430.\n",
      "Running Monte Carlo simulation number 440.\n",
      "Running Monte Carlo simulation number 450.\n",
      "Running Monte Carlo simulation number 460.\n",
      "Running Monte Carlo simulation number 470.\n",
      "Running Monte Carlo simulation number 480.\n",
      "Running Monte Carlo simulation number 490.\n"
     ]
    },
    {
     "data": {
      "text/html": [
       "<div>\n",
       "<style scoped>\n",
       "    .dataframe tbody tr th:only-of-type {\n",
       "        vertical-align: middle;\n",
       "    }\n",
       "\n",
       "    .dataframe tbody tr th {\n",
       "        vertical-align: top;\n",
       "    }\n",
       "\n",
       "    .dataframe thead th {\n",
       "        text-align: right;\n",
       "    }\n",
       "</style>\n",
       "<table border=\"1\" class=\"dataframe\">\n",
       "  <thead>\n",
       "    <tr style=\"text-align: right;\">\n",
       "      <th></th>\n",
       "      <th>0</th>\n",
       "      <th>1</th>\n",
       "      <th>2</th>\n",
       "      <th>3</th>\n",
       "      <th>4</th>\n",
       "      <th>5</th>\n",
       "      <th>6</th>\n",
       "      <th>7</th>\n",
       "      <th>8</th>\n",
       "      <th>9</th>\n",
       "      <th>...</th>\n",
       "      <th>490</th>\n",
       "      <th>491</th>\n",
       "      <th>492</th>\n",
       "      <th>493</th>\n",
       "      <th>494</th>\n",
       "      <th>495</th>\n",
       "      <th>496</th>\n",
       "      <th>497</th>\n",
       "      <th>498</th>\n",
       "      <th>499</th>\n",
       "    </tr>\n",
       "  </thead>\n",
       "  <tbody>\n",
       "    <tr>\n",
       "      <th>0</th>\n",
       "      <td>1.000000</td>\n",
       "      <td>1.000000</td>\n",
       "      <td>1.000000</td>\n",
       "      <td>1.000000</td>\n",
       "      <td>1.000000</td>\n",
       "      <td>1.000000</td>\n",
       "      <td>1.000000</td>\n",
       "      <td>1.000000</td>\n",
       "      <td>1.000000</td>\n",
       "      <td>1.000000</td>\n",
       "      <td>...</td>\n",
       "      <td>1.000000</td>\n",
       "      <td>1.000000</td>\n",
       "      <td>1.000000</td>\n",
       "      <td>1.000000</td>\n",
       "      <td>1.000000</td>\n",
       "      <td>1.000000</td>\n",
       "      <td>1.000000</td>\n",
       "      <td>1.000000</td>\n",
       "      <td>1.000000</td>\n",
       "      <td>1.000000</td>\n",
       "    </tr>\n",
       "    <tr>\n",
       "      <th>1</th>\n",
       "      <td>0.997073</td>\n",
       "      <td>0.982849</td>\n",
       "      <td>0.985808</td>\n",
       "      <td>1.012125</td>\n",
       "      <td>1.021450</td>\n",
       "      <td>1.011634</td>\n",
       "      <td>0.986458</td>\n",
       "      <td>0.998497</td>\n",
       "      <td>0.984798</td>\n",
       "      <td>1.008575</td>\n",
       "      <td>...</td>\n",
       "      <td>1.003284</td>\n",
       "      <td>0.992031</td>\n",
       "      <td>1.001660</td>\n",
       "      <td>0.991082</td>\n",
       "      <td>1.000244</td>\n",
       "      <td>1.000693</td>\n",
       "      <td>0.995371</td>\n",
       "      <td>0.979824</td>\n",
       "      <td>1.006492</td>\n",
       "      <td>0.990333</td>\n",
       "    </tr>\n",
       "    <tr>\n",
       "      <th>2</th>\n",
       "      <td>0.988437</td>\n",
       "      <td>0.982772</td>\n",
       "      <td>1.007114</td>\n",
       "      <td>0.998234</td>\n",
       "      <td>1.035591</td>\n",
       "      <td>1.029971</td>\n",
       "      <td>0.967957</td>\n",
       "      <td>1.003078</td>\n",
       "      <td>0.996341</td>\n",
       "      <td>1.004020</td>\n",
       "      <td>...</td>\n",
       "      <td>0.986134</td>\n",
       "      <td>0.985356</td>\n",
       "      <td>0.993079</td>\n",
       "      <td>0.983481</td>\n",
       "      <td>1.015414</td>\n",
       "      <td>0.999494</td>\n",
       "      <td>0.985863</td>\n",
       "      <td>0.995078</td>\n",
       "      <td>0.994059</td>\n",
       "      <td>0.977892</td>\n",
       "    </tr>\n",
       "    <tr>\n",
       "      <th>3</th>\n",
       "      <td>0.993631</td>\n",
       "      <td>0.984125</td>\n",
       "      <td>1.020468</td>\n",
       "      <td>0.997126</td>\n",
       "      <td>1.019975</td>\n",
       "      <td>1.019760</td>\n",
       "      <td>0.995768</td>\n",
       "      <td>0.988332</td>\n",
       "      <td>1.017130</td>\n",
       "      <td>1.005250</td>\n",
       "      <td>...</td>\n",
       "      <td>0.980612</td>\n",
       "      <td>0.983993</td>\n",
       "      <td>0.995125</td>\n",
       "      <td>0.978639</td>\n",
       "      <td>0.999674</td>\n",
       "      <td>1.000907</td>\n",
       "      <td>0.993057</td>\n",
       "      <td>0.992791</td>\n",
       "      <td>0.982396</td>\n",
       "      <td>0.975708</td>\n",
       "    </tr>\n",
       "    <tr>\n",
       "      <th>4</th>\n",
       "      <td>0.980688</td>\n",
       "      <td>0.986063</td>\n",
       "      <td>1.000995</td>\n",
       "      <td>0.977710</td>\n",
       "      <td>1.012882</td>\n",
       "      <td>1.032791</td>\n",
       "      <td>0.984234</td>\n",
       "      <td>0.991111</td>\n",
       "      <td>1.001125</td>\n",
       "      <td>1.000398</td>\n",
       "      <td>...</td>\n",
       "      <td>0.968324</td>\n",
       "      <td>0.982620</td>\n",
       "      <td>0.995170</td>\n",
       "      <td>0.978467</td>\n",
       "      <td>1.003096</td>\n",
       "      <td>1.014574</td>\n",
       "      <td>0.984790</td>\n",
       "      <td>0.989850</td>\n",
       "      <td>0.990547</td>\n",
       "      <td>0.983498</td>\n",
       "    </tr>\n",
       "    <tr>\n",
       "      <th>...</th>\n",
       "      <td>...</td>\n",
       "      <td>...</td>\n",
       "      <td>...</td>\n",
       "      <td>...</td>\n",
       "      <td>...</td>\n",
       "      <td>...</td>\n",
       "      <td>...</td>\n",
       "      <td>...</td>\n",
       "      <td>...</td>\n",
       "      <td>...</td>\n",
       "      <td>...</td>\n",
       "      <td>...</td>\n",
       "      <td>...</td>\n",
       "      <td>...</td>\n",
       "      <td>...</td>\n",
       "      <td>...</td>\n",
       "      <td>...</td>\n",
       "      <td>...</td>\n",
       "      <td>...</td>\n",
       "      <td>...</td>\n",
       "      <td>...</td>\n",
       "    </tr>\n",
       "    <tr>\n",
       "      <th>7556</th>\n",
       "      <td>1.529657</td>\n",
       "      <td>5.715934</td>\n",
       "      <td>14.174570</td>\n",
       "      <td>6.086180</td>\n",
       "      <td>0.147010</td>\n",
       "      <td>2.944282</td>\n",
       "      <td>0.860884</td>\n",
       "      <td>0.634115</td>\n",
       "      <td>2.008484</td>\n",
       "      <td>1.149538</td>\n",
       "      <td>...</td>\n",
       "      <td>1.661560</td>\n",
       "      <td>2.290146</td>\n",
       "      <td>2.268948</td>\n",
       "      <td>1.857285</td>\n",
       "      <td>1.456233</td>\n",
       "      <td>1.916752</td>\n",
       "      <td>1.207886</td>\n",
       "      <td>0.816029</td>\n",
       "      <td>1.076637</td>\n",
       "      <td>0.636587</td>\n",
       "    </tr>\n",
       "    <tr>\n",
       "      <th>7557</th>\n",
       "      <td>1.548309</td>\n",
       "      <td>5.644689</td>\n",
       "      <td>14.470450</td>\n",
       "      <td>6.187212</td>\n",
       "      <td>0.149400</td>\n",
       "      <td>2.985355</td>\n",
       "      <td>0.858158</td>\n",
       "      <td>0.637074</td>\n",
       "      <td>1.995177</td>\n",
       "      <td>1.123923</td>\n",
       "      <td>...</td>\n",
       "      <td>1.677995</td>\n",
       "      <td>2.346013</td>\n",
       "      <td>2.270022</td>\n",
       "      <td>1.882425</td>\n",
       "      <td>1.463112</td>\n",
       "      <td>1.902401</td>\n",
       "      <td>1.203828</td>\n",
       "      <td>0.820518</td>\n",
       "      <td>1.073137</td>\n",
       "      <td>0.638636</td>\n",
       "    </tr>\n",
       "    <tr>\n",
       "      <th>7558</th>\n",
       "      <td>1.544594</td>\n",
       "      <td>5.513222</td>\n",
       "      <td>14.663875</td>\n",
       "      <td>6.186178</td>\n",
       "      <td>0.151863</td>\n",
       "      <td>2.912357</td>\n",
       "      <td>0.875256</td>\n",
       "      <td>0.629219</td>\n",
       "      <td>2.021172</td>\n",
       "      <td>1.112966</td>\n",
       "      <td>...</td>\n",
       "      <td>1.677332</td>\n",
       "      <td>2.363005</td>\n",
       "      <td>2.287971</td>\n",
       "      <td>1.902488</td>\n",
       "      <td>1.426639</td>\n",
       "      <td>1.934399</td>\n",
       "      <td>1.228478</td>\n",
       "      <td>0.814873</td>\n",
       "      <td>1.075945</td>\n",
       "      <td>0.633102</td>\n",
       "    </tr>\n",
       "    <tr>\n",
       "      <th>7559</th>\n",
       "      <td>1.549135</td>\n",
       "      <td>5.520841</td>\n",
       "      <td>14.404371</td>\n",
       "      <td>6.096030</td>\n",
       "      <td>0.152014</td>\n",
       "      <td>2.908844</td>\n",
       "      <td>0.864390</td>\n",
       "      <td>0.624120</td>\n",
       "      <td>1.994017</td>\n",
       "      <td>1.128975</td>\n",
       "      <td>...</td>\n",
       "      <td>1.654505</td>\n",
       "      <td>2.349617</td>\n",
       "      <td>2.255214</td>\n",
       "      <td>1.873339</td>\n",
       "      <td>1.430128</td>\n",
       "      <td>1.917488</td>\n",
       "      <td>1.210824</td>\n",
       "      <td>0.800832</td>\n",
       "      <td>1.097539</td>\n",
       "      <td>0.638479</td>\n",
       "    </tr>\n",
       "    <tr>\n",
       "      <th>7560</th>\n",
       "      <td>1.556268</td>\n",
       "      <td>5.598426</td>\n",
       "      <td>14.427754</td>\n",
       "      <td>6.243057</td>\n",
       "      <td>0.150869</td>\n",
       "      <td>2.903875</td>\n",
       "      <td>0.865699</td>\n",
       "      <td>0.625024</td>\n",
       "      <td>1.944158</td>\n",
       "      <td>1.123695</td>\n",
       "      <td>...</td>\n",
       "      <td>1.693920</td>\n",
       "      <td>2.350494</td>\n",
       "      <td>2.193590</td>\n",
       "      <td>1.858802</td>\n",
       "      <td>1.432430</td>\n",
       "      <td>1.932276</td>\n",
       "      <td>1.212128</td>\n",
       "      <td>0.823490</td>\n",
       "      <td>1.117086</td>\n",
       "      <td>0.634689</td>\n",
       "    </tr>\n",
       "  </tbody>\n",
       "</table>\n",
       "<p>7561 rows × 500 columns</p>\n",
       "</div>"
      ],
      "text/plain": [
       "           0         1          2         3         4         5         6    \\\n",
       "0     1.000000  1.000000   1.000000  1.000000  1.000000  1.000000  1.000000   \n",
       "1     0.997073  0.982849   0.985808  1.012125  1.021450  1.011634  0.986458   \n",
       "2     0.988437  0.982772   1.007114  0.998234  1.035591  1.029971  0.967957   \n",
       "3     0.993631  0.984125   1.020468  0.997126  1.019975  1.019760  0.995768   \n",
       "4     0.980688  0.986063   1.000995  0.977710  1.012882  1.032791  0.984234   \n",
       "...        ...       ...        ...       ...       ...       ...       ...   \n",
       "7556  1.529657  5.715934  14.174570  6.086180  0.147010  2.944282  0.860884   \n",
       "7557  1.548309  5.644689  14.470450  6.187212  0.149400  2.985355  0.858158   \n",
       "7558  1.544594  5.513222  14.663875  6.186178  0.151863  2.912357  0.875256   \n",
       "7559  1.549135  5.520841  14.404371  6.096030  0.152014  2.908844  0.864390   \n",
       "7560  1.556268  5.598426  14.427754  6.243057  0.150869  2.903875  0.865699   \n",
       "\n",
       "           7         8         9    ...       490       491       492  \\\n",
       "0     1.000000  1.000000  1.000000  ...  1.000000  1.000000  1.000000   \n",
       "1     0.998497  0.984798  1.008575  ...  1.003284  0.992031  1.001660   \n",
       "2     1.003078  0.996341  1.004020  ...  0.986134  0.985356  0.993079   \n",
       "3     0.988332  1.017130  1.005250  ...  0.980612  0.983993  0.995125   \n",
       "4     0.991111  1.001125  1.000398  ...  0.968324  0.982620  0.995170   \n",
       "...        ...       ...       ...  ...       ...       ...       ...   \n",
       "7556  0.634115  2.008484  1.149538  ...  1.661560  2.290146  2.268948   \n",
       "7557  0.637074  1.995177  1.123923  ...  1.677995  2.346013  2.270022   \n",
       "7558  0.629219  2.021172  1.112966  ...  1.677332  2.363005  2.287971   \n",
       "7559  0.624120  1.994017  1.128975  ...  1.654505  2.349617  2.255214   \n",
       "7560  0.625024  1.944158  1.123695  ...  1.693920  2.350494  2.193590   \n",
       "\n",
       "           493       494       495       496       497       498       499  \n",
       "0     1.000000  1.000000  1.000000  1.000000  1.000000  1.000000  1.000000  \n",
       "1     0.991082  1.000244  1.000693  0.995371  0.979824  1.006492  0.990333  \n",
       "2     0.983481  1.015414  0.999494  0.985863  0.995078  0.994059  0.977892  \n",
       "3     0.978639  0.999674  1.000907  0.993057  0.992791  0.982396  0.975708  \n",
       "4     0.978467  1.003096  1.014574  0.984790  0.989850  0.990547  0.983498  \n",
       "...        ...       ...       ...       ...       ...       ...       ...  \n",
       "7556  1.857285  1.456233  1.916752  1.207886  0.816029  1.076637  0.636587  \n",
       "7557  1.882425  1.463112  1.902401  1.203828  0.820518  1.073137  0.638636  \n",
       "7558  1.902488  1.426639  1.934399  1.228478  0.814873  1.075945  0.633102  \n",
       "7559  1.873339  1.430128  1.917488  1.210824  0.800832  1.097539  0.638479  \n",
       "7560  1.858802  1.432430  1.932276  1.212128  0.823490  1.117086  0.634689  \n",
       "\n",
       "[7561 rows x 500 columns]"
      ]
     },
     "execution_count": 159,
     "metadata": {},
     "output_type": "execute_result"
    }
   ],
   "source": [
    "import warnings\n",
    "\n",
    "warnings.simplefilter('ignore')\n",
    "# Run the Monte Carlo simulation to forecast 30 years cumulative returns\n",
    "thirty_year_simulation.calc_cumulative_return()\n"
   ]
  },
  {
   "cell_type": "code",
   "execution_count": 160,
   "metadata": {},
   "outputs": [
    {
     "data": {
      "text/plain": [
       "<AxesSubplot:title={'center':'500 Simulations of Cumulative Portfolio Return Trajectories Over the Next 7560 Trading Days.'}>"
      ]
     },
     "execution_count": 160,
     "metadata": {},
     "output_type": "execute_result"
    },
    {
     "data": {
      "image/png": "[encoded data removed]",
      "text/plain": [
       "<Figure size 432x288 with 1 Axes>"
      ]
     },
     "metadata": {
      "needs_background": "light"
     },
     "output_type": "display_data"
    }
   ],
   "source": [
    "# Visualize the 30-year Monte Carlo simulation by creating an\n",
    "# overlay line plot\n",
    "thirty_year_simulation.plot_simulation()\n"
   ]
  },
  {
   "cell_type": "markdown",
   "metadata": {},
   "source": [
    "#### Step 3: Plot the probability distribution of the Monte Carlo simulation."
   ]
  },
  {
   "cell_type": "code",
   "execution_count": 138,
   "metadata": {},
   "outputs": [
    {
     "data": {
      "text/plain": [
       "<AxesSubplot:title={'center':'Distribution of Final Cumuluative Returns Across All 500 Simulations'}, ylabel='Frequency'>"
      ]
     },
     "execution_count": 138,
     "metadata": {},
     "output_type": "execute_result"
    },
    {
     "data": {
      "image/png": "[encoded data removed]",
      "text/plain": [
       "<Figure size 432x288 with 1 Axes>"
      ]
     },
     "metadata": {
      "needs_background": "light"
     },
     "output_type": "display_data"
    }
   ],
   "source": [
    "# Visualize the probability distribution of the 30-year Monte Carlo simulation \n",
    "# by plotting a histogram\n",
    "thirty_year_simulation.plot_distribution()\n"
   ]
  },
  {
   "cell_type": "markdown",
   "metadata": {},
   "source": [
    "#### Step 4: Generate the summary statistics for the Monte Carlo simulation."
   ]
  },
  {
   "cell_type": "code",
   "execution_count": 141,
   "metadata": {},
   "outputs": [
    {
     "data": {
      "text/plain": [
       "count           500.000000\n",
       "mean              2.526941\n",
       "std               4.907718\n",
       "min               0.078252\n",
       "25%               0.667006\n",
       "50%               1.430694\n",
       "75%               2.633679\n",
       "max              93.028810\n",
       "95% CI Lower      0.198701\n",
       "95% CI Upper      9.740876\n",
       "Name: 7560, dtype: float64"
      ]
     },
     "execution_count": 141,
     "metadata": {},
     "output_type": "execute_result"
    }
   ],
   "source": [
    "# Generate summary statistics from the 30-year Monte Carlo simulation results\n",
    "# Save the results as a variable\n",
    "summary_thirty_year_simulation = thirty_year_simulation.summarize_cumulative_return()\n",
    "\n",
    "\n",
    "# Review the 30-year Monte Carlo summary statistics\n",
    "summary_thirty_year_simulation"
   ]
  },
  {
   "cell_type": "markdown",
   "metadata": {},
   "source": [
    "### Analyze the Retirement Portfolio Forecasts\n",
    "\n",
    "Using the current value of only the stock and bond portion of the member's portfolio and the summary statistics that you generated from the Monte Carlo simulation, answer the following question in your Jupyter notebook:\n",
    "\n",
    "-  What are the lower and upper bounds for the expected value of the portfolio with a 95% confidence interval?\n"
   ]
  },
  {
   "cell_type": "code",
   "execution_count": 142,
   "metadata": {},
   "outputs": [
    {
     "data": {
      "text/plain": [
       "67175.6"
      ]
     },
     "execution_count": 142,
     "metadata": {},
     "output_type": "execute_result"
    }
   ],
   "source": [
    "# Print the current balance of the stock and bond portion of the members portfolio\n",
    "total_stocks_bonds\n"
   ]
  },
  {
   "cell_type": "code",
   "execution_count": 158,
   "metadata": {},
   "outputs": [
    {
     "name": "stdout",
     "output_type": "stream",
     "text": [
      "Range of Possible Outcomes for Stocks/Bonds portfolio over 30 years: 80523.47 to 721524.78\n"
     ]
    }
   ],
   "source": [
    "# Use the lower and upper `95%` confidence intervals to calculate the range of the possible outcomes for the current stock/bond portfolio\n",
    "ci_lower_thirty_cumulative_return = summary_thirty_year_simulation['95% CI Lower'] * total_stocks_bonds + total_stocks_bonds\n",
    "ci_upper_thirty_cumulative_return = summary_thirty_year_simulation['95% CI Upper'] * total_stocks_bonds + total_stocks_bonds\n",
    "\n",
    "# Print the result of your calculations\n",
    "print(f'Range of Possible Outcomes for Stocks/Bonds portfolio over 30 years: {ci_lower_thirty_cumulative_return:.2f} to {ci_upper_thirty_cumulative_return:.2f}')\n"
   ]
  },
  {
   "cell_type": "markdown",
   "metadata": {},
   "source": [
    "### Forecast Cumulative Returns in 10 Years\n",
    "\n",
    "The CTO of the credit union is impressed with your work on these planning tools but wonders if 30 years is a long time to wait until retirement. So, your next task is to adjust the retirement portfolio and run a new Monte Carlo simulation to find out if the changes will allow members to retire earlier.\n",
    "\n",
    "For this new Monte Carlo simulation, do the following: \n",
    "\n",
    "- Forecast the cumulative returns for 10 years from now. Because of the shortened investment horizon (30 years to 10 years), the portfolio needs to invest more heavily in the riskier asset&mdash;that is, stock&mdash;to help accumulate wealth for retirement. \n",
    "\n",
    "- Adjust the weights of the retirement portfolio so that the composition for the Monte Carlo simulation consists of 20% bonds and 80% stocks. \n",
    "\n",
    "- Run the simulation over 500 samples, and use the same data that the API call to Alpaca generated.\n",
    "\n",
    "- Based on the new Monte Carlo simulation, answer the following questions in your Jupyter notebook:\n",
    "\n",
    "    - Using the current value of only the stock and bond portion of the member's portfolio and the summary statistics that you generated from the new Monte Carlo simulation, what are the lower and upper bounds for the expected value of the portfolio (with the new weights) with a 95% confidence interval?\n",
    "\n",
    "    - Will weighting the portfolio more heavily toward stocks allow the credit union members to retire after only 10 years?\n"
   ]
  },
  {
   "cell_type": "code",
   "execution_count": 145,
   "metadata": {},
   "outputs": [
    {
     "data": {
      "text/html": [
       "<div>\n",
       "<style scoped>\n",
       "    .dataframe tbody tr th:only-of-type {\n",
       "        vertical-align: middle;\n",
       "    }\n",
       "\n",
       "    .dataframe tbody tr th {\n",
       "        vertical-align: top;\n",
       "    }\n",
       "\n",
       "    .dataframe thead tr th {\n",
       "        text-align: left;\n",
       "    }\n",
       "\n",
       "    .dataframe thead tr:last-of-type th {\n",
       "        text-align: right;\n",
       "    }\n",
       "</style>\n",
       "<table border=\"1\" class=\"dataframe\">\n",
       "  <thead>\n",
       "    <tr>\n",
       "      <th></th>\n",
       "      <th colspan=\"8\" halign=\"left\">SPY</th>\n",
       "      <th colspan=\"8\" halign=\"left\">AGG</th>\n",
       "    </tr>\n",
       "    <tr>\n",
       "      <th></th>\n",
       "      <th>open</th>\n",
       "      <th>high</th>\n",
       "      <th>low</th>\n",
       "      <th>close</th>\n",
       "      <th>volume</th>\n",
       "      <th>trade_count</th>\n",
       "      <th>vwap</th>\n",
       "      <th>daily_return</th>\n",
       "      <th>open</th>\n",
       "      <th>high</th>\n",
       "      <th>low</th>\n",
       "      <th>close</th>\n",
       "      <th>volume</th>\n",
       "      <th>trade_count</th>\n",
       "      <th>vwap</th>\n",
       "      <th>daily_return</th>\n",
       "    </tr>\n",
       "    <tr>\n",
       "      <th>timestamp</th>\n",
       "      <th></th>\n",
       "      <th></th>\n",
       "      <th></th>\n",
       "      <th></th>\n",
       "      <th></th>\n",
       "      <th></th>\n",
       "      <th></th>\n",
       "      <th></th>\n",
       "      <th></th>\n",
       "      <th></th>\n",
       "      <th></th>\n",
       "      <th></th>\n",
       "      <th></th>\n",
       "      <th></th>\n",
       "      <th></th>\n",
       "      <th></th>\n",
       "    </tr>\n",
       "  </thead>\n",
       "  <tbody>\n",
       "    <tr>\n",
       "      <th>2019-04-29 04:00:00+00:00</th>\n",
       "      <td>293.53</td>\n",
       "      <td>294.45</td>\n",
       "      <td>293.4100</td>\n",
       "      <td>293.87</td>\n",
       "      <td>61675682.0</td>\n",
       "      <td>186857.0</td>\n",
       "      <td>293.871519</td>\n",
       "      <td>NaN</td>\n",
       "      <td>108.56</td>\n",
       "      <td>108.62</td>\n",
       "      <td>108.4900</td>\n",
       "      <td>108.52</td>\n",
       "      <td>2782634</td>\n",
       "      <td>8977</td>\n",
       "      <td>108.539174</td>\n",
       "      <td>NaN</td>\n",
       "    </tr>\n",
       "    <tr>\n",
       "      <th>2019-04-30 04:00:00+00:00</th>\n",
       "      <td>293.52</td>\n",
       "      <td>294.34</td>\n",
       "      <td>291.9200</td>\n",
       "      <td>294.02</td>\n",
       "      <td>81411933.0</td>\n",
       "      <td>254912.0</td>\n",
       "      <td>293.551590</td>\n",
       "      <td>0.000510</td>\n",
       "      <td>108.56</td>\n",
       "      <td>108.68</td>\n",
       "      <td>108.5135</td>\n",
       "      <td>108.59</td>\n",
       "      <td>7491505</td>\n",
       "      <td>17892</td>\n",
       "      <td>108.620462</td>\n",
       "      <td>0.000645</td>\n",
       "    </tr>\n",
       "    <tr>\n",
       "      <th>2019-05-01 04:00:00+00:00</th>\n",
       "      <td>294.76</td>\n",
       "      <td>294.95</td>\n",
       "      <td>291.8000</td>\n",
       "      <td>291.81</td>\n",
       "      <td>71921870.0</td>\n",
       "      <td>337374.0</td>\n",
       "      <td>293.457138</td>\n",
       "      <td>-0.007516</td>\n",
       "      <td>108.47</td>\n",
       "      <td>108.76</td>\n",
       "      <td>108.3200</td>\n",
       "      <td>108.40</td>\n",
       "      <td>6387911</td>\n",
       "      <td>23490</td>\n",
       "      <td>108.455634</td>\n",
       "      <td>-0.001750</td>\n",
       "    </tr>\n",
       "    <tr>\n",
       "      <th>2019-05-02 04:00:00+00:00</th>\n",
       "      <td>291.68</td>\n",
       "      <td>292.70</td>\n",
       "      <td>289.5200</td>\n",
       "      <td>291.18</td>\n",
       "      <td>65058183.0</td>\n",
       "      <td>342564.0</td>\n",
       "      <td>291.101680</td>\n",
       "      <td>-0.002159</td>\n",
       "      <td>108.30</td>\n",
       "      <td>108.33</td>\n",
       "      <td>108.1000</td>\n",
       "      <td>108.16</td>\n",
       "      <td>3379510</td>\n",
       "      <td>10083</td>\n",
       "      <td>108.172602</td>\n",
       "      <td>-0.002214</td>\n",
       "    </tr>\n",
       "    <tr>\n",
       "      <th>2019-05-03 04:00:00+00:00</th>\n",
       "      <td>292.80</td>\n",
       "      <td>294.34</td>\n",
       "      <td>291.2998</td>\n",
       "      <td>294.03</td>\n",
       "      <td>56579556.0</td>\n",
       "      <td>249557.0</td>\n",
       "      <td>293.438891</td>\n",
       "      <td>0.009788</td>\n",
       "      <td>108.32</td>\n",
       "      <td>108.42</td>\n",
       "      <td>108.2750</td>\n",
       "      <td>108.34</td>\n",
       "      <td>2326299</td>\n",
       "      <td>11699</td>\n",
       "      <td>108.329456</td>\n",
       "      <td>0.001664</td>\n",
       "    </tr>\n",
       "  </tbody>\n",
       "</table>\n",
       "</div>"
      ],
      "text/plain": [
       "                              SPY                                        \\\n",
       "                             open    high       low   close      volume   \n",
       "timestamp                                                                 \n",
       "2019-04-29 04:00:00+00:00  293.53  294.45  293.4100  293.87  61675682.0   \n",
       "2019-04-30 04:00:00+00:00  293.52  294.34  291.9200  294.02  81411933.0   \n",
       "2019-05-01 04:00:00+00:00  294.76  294.95  291.8000  291.81  71921870.0   \n",
       "2019-05-02 04:00:00+00:00  291.68  292.70  289.5200  291.18  65058183.0   \n",
       "2019-05-03 04:00:00+00:00  292.80  294.34  291.2998  294.03  56579556.0   \n",
       "\n",
       "                                                                   AGG  \\\n",
       "                          trade_count        vwap daily_return    open   \n",
       "timestamp                                                                \n",
       "2019-04-29 04:00:00+00:00    186857.0  293.871519          NaN  108.56   \n",
       "2019-04-30 04:00:00+00:00    254912.0  293.551590     0.000510  108.56   \n",
       "2019-05-01 04:00:00+00:00    337374.0  293.457138    -0.007516  108.47   \n",
       "2019-05-02 04:00:00+00:00    342564.0  291.101680    -0.002159  108.30   \n",
       "2019-05-03 04:00:00+00:00    249557.0  293.438891     0.009788  108.32   \n",
       "\n",
       "                                                                          \\\n",
       "                             high       low   close   volume trade_count   \n",
       "timestamp                                                                  \n",
       "2019-04-29 04:00:00+00:00  108.62  108.4900  108.52  2782634        8977   \n",
       "2019-04-30 04:00:00+00:00  108.68  108.5135  108.59  7491505       17892   \n",
       "2019-05-01 04:00:00+00:00  108.76  108.3200  108.40  6387911       23490   \n",
       "2019-05-02 04:00:00+00:00  108.33  108.1000  108.16  3379510       10083   \n",
       "2019-05-03 04:00:00+00:00  108.42  108.2750  108.34  2326299       11699   \n",
       "\n",
       "                                                    \n",
       "                                 vwap daily_return  \n",
       "timestamp                                           \n",
       "2019-04-29 04:00:00+00:00  108.539174          NaN  \n",
       "2019-04-30 04:00:00+00:00  108.620462     0.000645  \n",
       "2019-05-01 04:00:00+00:00  108.455634    -0.001750  \n",
       "2019-05-02 04:00:00+00:00  108.172602    -0.002214  \n",
       "2019-05-03 04:00:00+00:00  108.329456     0.001664  "
      ]
     },
     "execution_count": 145,
     "metadata": {},
     "output_type": "execute_result"
    }
   ],
   "source": [
    "# Configure a Monte Carlo simulation to forecast 10 years cumulative returns\n",
    "# The weights should be split 20% to AGG and 80% to SPY.\n",
    "# Run 500 samples.\n",
    "weights = [0.8, 0.2]\n",
    "simulations = 500 \n",
    "trading_days = 252 * 10\n",
    "# Review the simulation input data\n",
    "ten_year_simulation = MCSimulation(\n",
    "    portfolio_data=hist_df,\n",
    "    weights=weights,\n",
    "    num_simulation=simulations,\n",
    "    num_trading_days=trading_days\n",
    ")\n",
    "\n",
    "\n",
    "# Review the simulation input data\n",
    "ten_year_simulation.portfolio_data.head()\n"
   ]
  },
  {
   "cell_type": "code",
   "execution_count": 147,
   "metadata": {},
   "outputs": [
    {
     "name": "stdout",
     "output_type": "stream",
     "text": [
      "Running Monte Carlo simulation number 0.\n",
      "Running Monte Carlo simulation number 10.\n",
      "Running Monte Carlo simulation number 20.\n",
      "Running Monte Carlo simulation number 30.\n",
      "Running Monte Carlo simulation number 40.\n",
      "Running Monte Carlo simulation number 50.\n",
      "Running Monte Carlo simulation number 60.\n",
      "Running Monte Carlo simulation number 70.\n",
      "Running Monte Carlo simulation number 80.\n",
      "Running Monte Carlo simulation number 90.\n",
      "Running Monte Carlo simulation number 100.\n",
      "Running Monte Carlo simulation number 110.\n",
      "Running Monte Carlo simulation number 120.\n",
      "Running Monte Carlo simulation number 130.\n",
      "Running Monte Carlo simulation number 140.\n",
      "Running Monte Carlo simulation number 150.\n",
      "Running Monte Carlo simulation number 160.\n",
      "Running Monte Carlo simulation number 170.\n",
      "Running Monte Carlo simulation number 180.\n",
      "Running Monte Carlo simulation number 190.\n",
      "Running Monte Carlo simulation number 200.\n",
      "Running Monte Carlo simulation number 210.\n",
      "Running Monte Carlo simulation number 220.\n",
      "Running Monte Carlo simulation number 230.\n",
      "Running Monte Carlo simulation number 240.\n",
      "Running Monte Carlo simulation number 250.\n",
      "Running Monte Carlo simulation number 260.\n",
      "Running Monte Carlo simulation number 270.\n",
      "Running Monte Carlo simulation number 280.\n",
      "Running Monte Carlo simulation number 290.\n",
      "Running Monte Carlo simulation number 300.\n",
      "Running Monte Carlo simulation number 310.\n",
      "Running Monte Carlo simulation number 320.\n",
      "Running Monte Carlo simulation number 330.\n",
      "Running Monte Carlo simulation number 340.\n",
      "Running Monte Carlo simulation number 350.\n",
      "Running Monte Carlo simulation number 360.\n",
      "Running Monte Carlo simulation number 370.\n",
      "Running Monte Carlo simulation number 380.\n",
      "Running Monte Carlo simulation number 390.\n",
      "Running Monte Carlo simulation number 400.\n",
      "Running Monte Carlo simulation number 410.\n",
      "Running Monte Carlo simulation number 420.\n",
      "Running Monte Carlo simulation number 430.\n",
      "Running Monte Carlo simulation number 440.\n",
      "Running Monte Carlo simulation number 450.\n",
      "Running Monte Carlo simulation number 460.\n",
      "Running Monte Carlo simulation number 470.\n",
      "Running Monte Carlo simulation number 480.\n",
      "Running Monte Carlo simulation number 490.\n"
     ]
    },
    {
     "data": {
      "text/html": [
       "<div>\n",
       "<style scoped>\n",
       "    .dataframe tbody tr th:only-of-type {\n",
       "        vertical-align: middle;\n",
       "    }\n",
       "\n",
       "    .dataframe tbody tr th {\n",
       "        vertical-align: top;\n",
       "    }\n",
       "\n",
       "    .dataframe thead th {\n",
       "        text-align: right;\n",
       "    }\n",
       "</style>\n",
       "<table border=\"1\" class=\"dataframe\">\n",
       "  <thead>\n",
       "    <tr style=\"text-align: right;\">\n",
       "      <th></th>\n",
       "      <th>0</th>\n",
       "      <th>1</th>\n",
       "      <th>2</th>\n",
       "      <th>3</th>\n",
       "      <th>4</th>\n",
       "      <th>5</th>\n",
       "      <th>6</th>\n",
       "      <th>7</th>\n",
       "      <th>8</th>\n",
       "      <th>9</th>\n",
       "      <th>...</th>\n",
       "      <th>490</th>\n",
       "      <th>491</th>\n",
       "      <th>492</th>\n",
       "      <th>493</th>\n",
       "      <th>494</th>\n",
       "      <th>495</th>\n",
       "      <th>496</th>\n",
       "      <th>497</th>\n",
       "      <th>498</th>\n",
       "      <th>499</th>\n",
       "    </tr>\n",
       "  </thead>\n",
       "  <tbody>\n",
       "    <tr>\n",
       "      <th>0</th>\n",
       "      <td>1.000000</td>\n",
       "      <td>1.000000</td>\n",
       "      <td>1.000000</td>\n",
       "      <td>1.000000</td>\n",
       "      <td>1.000000</td>\n",
       "      <td>1.000000</td>\n",
       "      <td>1.000000</td>\n",
       "      <td>1.000000</td>\n",
       "      <td>1.000000</td>\n",
       "      <td>1.000000</td>\n",
       "      <td>...</td>\n",
       "      <td>1.000000</td>\n",
       "      <td>1.000000</td>\n",
       "      <td>1.000000</td>\n",
       "      <td>1.000000</td>\n",
       "      <td>1.000000</td>\n",
       "      <td>1.000000</td>\n",
       "      <td>1.000000</td>\n",
       "      <td>1.000000</td>\n",
       "      <td>1.000000</td>\n",
       "      <td>1.000000</td>\n",
       "    </tr>\n",
       "    <tr>\n",
       "      <th>1</th>\n",
       "      <td>1.007398</td>\n",
       "      <td>0.976612</td>\n",
       "      <td>1.022047</td>\n",
       "      <td>1.002949</td>\n",
       "      <td>1.015099</td>\n",
       "      <td>1.005598</td>\n",
       "      <td>1.012131</td>\n",
       "      <td>1.001389</td>\n",
       "      <td>0.995442</td>\n",
       "      <td>1.006120</td>\n",
       "      <td>...</td>\n",
       "      <td>1.007745</td>\n",
       "      <td>0.990641</td>\n",
       "      <td>1.009044</td>\n",
       "      <td>0.992091</td>\n",
       "      <td>0.986505</td>\n",
       "      <td>1.018974</td>\n",
       "      <td>1.003764</td>\n",
       "      <td>1.003336</td>\n",
       "      <td>1.004817</td>\n",
       "      <td>0.991738</td>\n",
       "    </tr>\n",
       "    <tr>\n",
       "      <th>2</th>\n",
       "      <td>0.975155</td>\n",
       "      <td>0.981957</td>\n",
       "      <td>1.044594</td>\n",
       "      <td>0.996161</td>\n",
       "      <td>1.040543</td>\n",
       "      <td>1.015535</td>\n",
       "      <td>1.002841</td>\n",
       "      <td>0.974730</td>\n",
       "      <td>0.991031</td>\n",
       "      <td>0.995306</td>\n",
       "      <td>...</td>\n",
       "      <td>1.010780</td>\n",
       "      <td>0.991090</td>\n",
       "      <td>1.004181</td>\n",
       "      <td>0.996913</td>\n",
       "      <td>0.987412</td>\n",
       "      <td>1.019338</td>\n",
       "      <td>1.006202</td>\n",
       "      <td>1.025009</td>\n",
       "      <td>0.983530</td>\n",
       "      <td>0.974342</td>\n",
       "    </tr>\n",
       "    <tr>\n",
       "      <th>3</th>\n",
       "      <td>0.971901</td>\n",
       "      <td>0.975111</td>\n",
       "      <td>1.022091</td>\n",
       "      <td>0.984293</td>\n",
       "      <td>1.039588</td>\n",
       "      <td>1.026975</td>\n",
       "      <td>1.008827</td>\n",
       "      <td>0.971683</td>\n",
       "      <td>0.969706</td>\n",
       "      <td>0.984979</td>\n",
       "      <td>...</td>\n",
       "      <td>1.014383</td>\n",
       "      <td>1.001734</td>\n",
       "      <td>1.020027</td>\n",
       "      <td>0.994496</td>\n",
       "      <td>0.974445</td>\n",
       "      <td>1.011241</td>\n",
       "      <td>1.000167</td>\n",
       "      <td>0.986234</td>\n",
       "      <td>0.970647</td>\n",
       "      <td>0.971393</td>\n",
       "    </tr>\n",
       "    <tr>\n",
       "      <th>4</th>\n",
       "      <td>0.950563</td>\n",
       "      <td>0.971173</td>\n",
       "      <td>1.005278</td>\n",
       "      <td>0.983147</td>\n",
       "      <td>1.024391</td>\n",
       "      <td>1.010969</td>\n",
       "      <td>1.002587</td>\n",
       "      <td>0.966254</td>\n",
       "      <td>0.973040</td>\n",
       "      <td>0.991270</td>\n",
       "      <td>...</td>\n",
       "      <td>1.014659</td>\n",
       "      <td>0.977622</td>\n",
       "      <td>1.031234</td>\n",
       "      <td>1.003002</td>\n",
       "      <td>0.993048</td>\n",
       "      <td>1.023740</td>\n",
       "      <td>1.013132</td>\n",
       "      <td>0.985176</td>\n",
       "      <td>1.004642</td>\n",
       "      <td>0.979218</td>\n",
       "    </tr>\n",
       "    <tr>\n",
       "      <th>...</th>\n",
       "      <td>...</td>\n",
       "      <td>...</td>\n",
       "      <td>...</td>\n",
       "      <td>...</td>\n",
       "      <td>...</td>\n",
       "      <td>...</td>\n",
       "      <td>...</td>\n",
       "      <td>...</td>\n",
       "      <td>...</td>\n",
       "      <td>...</td>\n",
       "      <td>...</td>\n",
       "      <td>...</td>\n",
       "      <td>...</td>\n",
       "      <td>...</td>\n",
       "      <td>...</td>\n",
       "      <td>...</td>\n",
       "      <td>...</td>\n",
       "      <td>...</td>\n",
       "      <td>...</td>\n",
       "      <td>...</td>\n",
       "      <td>...</td>\n",
       "    </tr>\n",
       "    <tr>\n",
       "      <th>2516</th>\n",
       "      <td>0.891383</td>\n",
       "      <td>0.293271</td>\n",
       "      <td>0.355724</td>\n",
       "      <td>0.687092</td>\n",
       "      <td>0.485269</td>\n",
       "      <td>0.612899</td>\n",
       "      <td>1.366914</td>\n",
       "      <td>2.527549</td>\n",
       "      <td>1.530805</td>\n",
       "      <td>0.236011</td>\n",
       "      <td>...</td>\n",
       "      <td>1.227453</td>\n",
       "      <td>0.380432</td>\n",
       "      <td>1.406690</td>\n",
       "      <td>0.376519</td>\n",
       "      <td>0.912265</td>\n",
       "      <td>2.197165</td>\n",
       "      <td>1.326020</td>\n",
       "      <td>0.321020</td>\n",
       "      <td>0.836601</td>\n",
       "      <td>0.204007</td>\n",
       "    </tr>\n",
       "    <tr>\n",
       "      <th>2517</th>\n",
       "      <td>0.881884</td>\n",
       "      <td>0.288350</td>\n",
       "      <td>0.356027</td>\n",
       "      <td>0.704391</td>\n",
       "      <td>0.485806</td>\n",
       "      <td>0.605794</td>\n",
       "      <td>1.363406</td>\n",
       "      <td>2.555596</td>\n",
       "      <td>1.509861</td>\n",
       "      <td>0.240839</td>\n",
       "      <td>...</td>\n",
       "      <td>1.229523</td>\n",
       "      <td>0.384403</td>\n",
       "      <td>1.384564</td>\n",
       "      <td>0.371912</td>\n",
       "      <td>0.896586</td>\n",
       "      <td>2.139685</td>\n",
       "      <td>1.318363</td>\n",
       "      <td>0.328233</td>\n",
       "      <td>0.801615</td>\n",
       "      <td>0.199828</td>\n",
       "    </tr>\n",
       "    <tr>\n",
       "      <th>2518</th>\n",
       "      <td>0.863065</td>\n",
       "      <td>0.291535</td>\n",
       "      <td>0.362101</td>\n",
       "      <td>0.710483</td>\n",
       "      <td>0.488960</td>\n",
       "      <td>0.588693</td>\n",
       "      <td>1.395610</td>\n",
       "      <td>2.530620</td>\n",
       "      <td>1.507200</td>\n",
       "      <td>0.240343</td>\n",
       "      <td>...</td>\n",
       "      <td>1.221517</td>\n",
       "      <td>0.385870</td>\n",
       "      <td>1.397139</td>\n",
       "      <td>0.373118</td>\n",
       "      <td>0.881538</td>\n",
       "      <td>2.148710</td>\n",
       "      <td>1.332209</td>\n",
       "      <td>0.324324</td>\n",
       "      <td>0.803651</td>\n",
       "      <td>0.202322</td>\n",
       "    </tr>\n",
       "    <tr>\n",
       "      <th>2519</th>\n",
       "      <td>0.886854</td>\n",
       "      <td>0.294030</td>\n",
       "      <td>0.364075</td>\n",
       "      <td>0.694172</td>\n",
       "      <td>0.502360</td>\n",
       "      <td>0.580643</td>\n",
       "      <td>1.417677</td>\n",
       "      <td>2.544414</td>\n",
       "      <td>1.493110</td>\n",
       "      <td>0.238897</td>\n",
       "      <td>...</td>\n",
       "      <td>1.197548</td>\n",
       "      <td>0.388276</td>\n",
       "      <td>1.398903</td>\n",
       "      <td>0.365216</td>\n",
       "      <td>0.898810</td>\n",
       "      <td>2.166880</td>\n",
       "      <td>1.341888</td>\n",
       "      <td>0.326452</td>\n",
       "      <td>0.782764</td>\n",
       "      <td>0.201298</td>\n",
       "    </tr>\n",
       "    <tr>\n",
       "      <th>2520</th>\n",
       "      <td>0.892307</td>\n",
       "      <td>0.293606</td>\n",
       "      <td>0.358560</td>\n",
       "      <td>0.687690</td>\n",
       "      <td>0.496207</td>\n",
       "      <td>0.575463</td>\n",
       "      <td>1.416816</td>\n",
       "      <td>2.540063</td>\n",
       "      <td>1.524472</td>\n",
       "      <td>0.242174</td>\n",
       "      <td>...</td>\n",
       "      <td>1.204940</td>\n",
       "      <td>0.386146</td>\n",
       "      <td>1.430913</td>\n",
       "      <td>0.361268</td>\n",
       "      <td>0.928844</td>\n",
       "      <td>2.060510</td>\n",
       "      <td>1.352046</td>\n",
       "      <td>0.325055</td>\n",
       "      <td>0.786024</td>\n",
       "      <td>0.203951</td>\n",
       "    </tr>\n",
       "  </tbody>\n",
       "</table>\n",
       "<p>2521 rows × 500 columns</p>\n",
       "</div>"
      ],
      "text/plain": [
       "           0         1         2         3         4         5         6    \\\n",
       "0     1.000000  1.000000  1.000000  1.000000  1.000000  1.000000  1.000000   \n",
       "1     1.007398  0.976612  1.022047  1.002949  1.015099  1.005598  1.012131   \n",
       "2     0.975155  0.981957  1.044594  0.996161  1.040543  1.015535  1.002841   \n",
       "3     0.971901  0.975111  1.022091  0.984293  1.039588  1.026975  1.008827   \n",
       "4     0.950563  0.971173  1.005278  0.983147  1.024391  1.010969  1.002587   \n",
       "...        ...       ...       ...       ...       ...       ...       ...   \n",
       "2516  0.891383  0.293271  0.355724  0.687092  0.485269  0.612899  1.366914   \n",
       "2517  0.881884  0.288350  0.356027  0.704391  0.485806  0.605794  1.363406   \n",
       "2518  0.863065  0.291535  0.362101  0.710483  0.488960  0.588693  1.395610   \n",
       "2519  0.886854  0.294030  0.364075  0.694172  0.502360  0.580643  1.417677   \n",
       "2520  0.892307  0.293606  0.358560  0.687690  0.496207  0.575463  1.416816   \n",
       "\n",
       "           7         8         9    ...       490       491       492  \\\n",
       "0     1.000000  1.000000  1.000000  ...  1.000000  1.000000  1.000000   \n",
       "1     1.001389  0.995442  1.006120  ...  1.007745  0.990641  1.009044   \n",
       "2     0.974730  0.991031  0.995306  ...  1.010780  0.991090  1.004181   \n",
       "3     0.971683  0.969706  0.984979  ...  1.014383  1.001734  1.020027   \n",
       "4     0.966254  0.973040  0.991270  ...  1.014659  0.977622  1.031234   \n",
       "...        ...       ...       ...  ...       ...       ...       ...   \n",
       "2516  2.527549  1.530805  0.236011  ...  1.227453  0.380432  1.406690   \n",
       "2517  2.555596  1.509861  0.240839  ...  1.229523  0.384403  1.384564   \n",
       "2518  2.530620  1.507200  0.240343  ...  1.221517  0.385870  1.397139   \n",
       "2519  2.544414  1.493110  0.238897  ...  1.197548  0.388276  1.398903   \n",
       "2520  2.540063  1.524472  0.242174  ...  1.204940  0.386146  1.430913   \n",
       "\n",
       "           493       494       495       496       497       498       499  \n",
       "0     1.000000  1.000000  1.000000  1.000000  1.000000  1.000000  1.000000  \n",
       "1     0.992091  0.986505  1.018974  1.003764  1.003336  1.004817  0.991738  \n",
       "2     0.996913  0.987412  1.019338  1.006202  1.025009  0.983530  0.974342  \n",
       "3     0.994496  0.974445  1.011241  1.000167  0.986234  0.970647  0.971393  \n",
       "4     1.003002  0.993048  1.023740  1.013132  0.985176  1.004642  0.979218  \n",
       "...        ...       ...       ...       ...       ...       ...       ...  \n",
       "2516  0.376519  0.912265  2.197165  1.326020  0.321020  0.836601  0.204007  \n",
       "2517  0.371912  0.896586  2.139685  1.318363  0.328233  0.801615  0.199828  \n",
       "2518  0.373118  0.881538  2.148710  1.332209  0.324324  0.803651  0.202322  \n",
       "2519  0.365216  0.898810  2.166880  1.341888  0.326452  0.782764  0.201298  \n",
       "2520  0.361268  0.928844  2.060510  1.352046  0.325055  0.786024  0.203951  \n",
       "\n",
       "[2521 rows x 500 columns]"
      ]
     },
     "execution_count": 147,
     "metadata": {},
     "output_type": "execute_result"
    }
   ],
   "source": [
    "# Run the Monte Carlo simulation to forecast 10 years cumulative returns\n",
    "ten_year_simulation.calc_cumulative_return()\n"
   ]
  },
  {
   "cell_type": "code",
   "execution_count": 148,
   "metadata": {},
   "outputs": [
    {
     "data": {
      "text/plain": [
       "<AxesSubplot:title={'center':'500 Simulations of Cumulative Portfolio Return Trajectories Over the Next 2520 Trading Days.'}>"
      ]
     },
     "execution_count": 148,
     "metadata": {},
     "output_type": "execute_result"
    },
    {
     "data": {
      "image/png": "[encoded data removed]",
      "text/plain": [
       "<Figure size 432x288 with 1 Axes>"
      ]
     },
     "metadata": {
      "needs_background": "light"
     },
     "output_type": "display_data"
    }
   ],
   "source": [
    "# Visualize the 10-year Monte Carlo simulation by creating an\n",
    "# overlay line plot\n",
    "# YOUR CODE HERE\n",
    "ten_year_simulation.plot_simulation()\n"
   ]
  },
  {
   "cell_type": "code",
   "execution_count": 149,
   "metadata": {},
   "outputs": [
    {
     "data": {
      "text/plain": [
       "<AxesSubplot:title={'center':'Distribution of Final Cumuluative Returns Across All 500 Simulations'}, ylabel='Frequency'>"
      ]
     },
     "execution_count": 149,
     "metadata": {},
     "output_type": "execute_result"
    },
    {
     "data": {
      "image/png": "[encoded data removed]",
      "text/plain": [
       "<Figure size 432x288 with 1 Axes>"
      ]
     },
     "metadata": {
      "needs_background": "light"
     },
     "output_type": "display_data"
    }
   ],
   "source": [
    "# Visualize the probability distribution of the 10-year Monte Carlo simulation \n",
    "# by plotting a histogram\n",
    "ten_year_simulation.plot_distribution()\n"
   ]
  },
  {
   "cell_type": "code",
   "execution_count": 152,
   "metadata": {},
   "outputs": [
    {
     "data": {
      "text/plain": [
       "count           500.000000\n",
       "mean              1.058311\n",
       "std               1.093749\n",
       "min               0.097006\n",
       "25%               0.460150\n",
       "50%               0.764192\n",
       "75%               1.280104\n",
       "max              13.537180\n",
       "95% CI Lower      0.161895\n",
       "95% CI Upper      3.317812\n",
       "Name: 2520, dtype: float64"
      ]
     },
     "execution_count": 152,
     "metadata": {},
     "output_type": "execute_result"
    }
   ],
   "source": [
    "# Generate summary statistics from the 10-year Monte Carlo simulation results\n",
    "# Save the results as a variable\n",
    "summary_ten_year_simulation = ten_year_simulation.summarize_cumulative_return()\n",
    "\n",
    "\n",
    "# Review the 30-year Monte Carlo summary statistics\n",
    "summary_thirty_year_simulation\n",
    "\n",
    "\n",
    "# Review the 10-year Monte Carlo summary statistics\n",
    "summary_ten_year_simulation"
   ]
  },
  {
   "cell_type": "markdown",
   "metadata": {},
   "source": [
    "### Answer the following questions:"
   ]
  },
  {
   "cell_type": "markdown",
   "metadata": {},
   "source": [
    "#### Question: Using the current value of only the stock and bond portion of the member's portfolio and the summary statistics that you generated from the new Monte Carlo simulation, what are the lower and upper bounds for the expected value of the portfolio (with the new weights) with a 95% confidence interval?"
   ]
  },
  {
   "cell_type": "code",
   "execution_count": 153,
   "metadata": {},
   "outputs": [
    {
     "data": {
      "text/plain": [
       "67175.6"
      ]
     },
     "execution_count": 153,
     "metadata": {},
     "output_type": "execute_result"
    }
   ],
   "source": [
    "# Print the current balance of the stock and bond portion of the members portfolio\n",
    "total_stocks_bonds\n"
   ]
  },
  {
   "cell_type": "code",
   "execution_count": 157,
   "metadata": {},
   "outputs": [
    {
     "name": "stdout",
     "output_type": "stream",
     "text": [
      "Range of Possible Outcomes for aggressive Stocks/Bonds portfolio over 10 years: 78051.00 to 290051.59\n"
     ]
    }
   ],
   "source": [
    "# Use the lower and upper `95%` confidence intervals to calculate the range of the possible outcomes for the current stock/bond portfolio\n",
    "ci_lower_ten_cumulative_return = summary_ten_year_simulation['95% CI Lower'] * total_stocks_bonds + total_stocks_bonds\n",
    "ci_upper_ten_cumulative_return = summary_ten_year_simulation['95% CI Upper'] * total_stocks_bonds + total_stocks_bonds\n",
    "\n",
    "# Print the result of your calculations\n",
    "print(f'Range of Possible Outcomes for aggressive Stocks/Bonds portfolio over 10 years: {ci_lower_ten_cumulative_return:.2f} to {ci_upper_ten_cumulative_return:.2f}')\n",
    "\n"
   ]
  },
  {
   "cell_type": "markdown",
   "metadata": {},
   "source": [
    "#### Question: Will weighting the portfolio more heavily to stocks allow the credit union members to retire after only 10 years?"
   ]
  },
  {
   "cell_type": "raw",
   "metadata": {},
   "source": [
    "**Answer** No, weighting the portfolio more heavily to stocks will not allow the credit union members to retire after only 10 years.  The range of possible portfolio end values suggest that staying invested in a more conservative 60-40 mix of Stocks and Bonds over a longer time period of 30 years will set them up for a more comfortable retirement."
   ]
  }
 ],
 "metadata": {
  "kernelspec": {
   "display_name": "Python 3 (ipykernel)",
   "language": "python",
   "name": "python3"
  },
  "language_info": {
   "codemirror_mode": {
    "name": "ipython",
    "version": 3
   },
   "file_extension": ".py",
   "mimetype": "text/x-python",
   "name": "python",
   "nbconvert_exporter": "python",
   "pygments_lexer": "ipython3",
   "version": "3.9.10"
  }
 },
 "nbformat": 4,
 "nbformat_minor": 4
}
